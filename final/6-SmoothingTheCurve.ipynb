{
 "cells": [
  {
   "cell_type": "markdown",
   "id": "b879ce15",
   "metadata": {},
   "source": [
    "# Smoothing the curve 📈"
   ]
  },
  {
   "cell_type": "markdown",
   "id": "dbf3f79e",
   "metadata": {},
   "source": [
    "## From dictionaries to tables"
   ]
  },
  {
   "cell_type": "markdown",
   "id": "458d1829",
   "metadata": {},
   "source": [
    "Let's recap the concept of dictionary and the use of `group`:"
   ]
  },
  {
   "cell_type": "code",
   "execution_count": 1,
   "id": "8903ab46",
   "metadata": {},
   "outputs": [
    {
     "data": {
      "text/plain": [
       "a| 0 2\r\n",
       "b| ,1\r\n",
       "c| ,3\r\n",
       "d| ,4\r\n"
      ]
     },
     "execution_count": 1,
     "metadata": {},
     "output_type": "execute_result"
    }
   ],
   "source": [
    "group `a`b`a`c`d"
   ]
  },
  {
   "cell_type": "markdown",
   "id": "d6a72f4c",
   "metadata": {},
   "source": [
    "Dictionaries are just mappings between keys and values. We can easily create a dictionary by means of `!`, taking two lists as arguments."
   ]
  },
  {
   "cell_type": "code",
   "execution_count": 2,
   "id": "4e99865b",
   "metadata": {},
   "outputs": [
    {
     "data": {
      "text/plain": [
       "a| 1\r\n",
       "b| 2\r\n"
      ]
     },
     "execution_count": 2,
     "metadata": {},
     "output_type": "execute_result"
    }
   ],
   "source": [
    "`a`b!1 2"
   ]
  },
  {
   "cell_type": "markdown",
   "id": "43419c3f",
   "metadata": {},
   "source": [
    "<div class=\"alert alert-warning\">\n",
    "Take care when creating dictionaries with just one key and one associated value. Note that the syntax `1!2` is wrong. Instead, since `!` expects lists as left and right arguments, you need to lift the values manually, as in: `enlist[1]!enlist 2`.\n",
    "</div>"
   ]
  },
  {
   "cell_type": "markdown",
   "id": "641bf0c1",
   "metadata": {},
   "source": [
    "When a dictionary contains lists of equal length, and the keys are symbols, we create a *column dictionary*."
   ]
  },
  {
   "cell_type": "code",
   "execution_count": 3,
   "id": "6aed8f65",
   "metadata": {},
   "outputs": [
    {
     "name": "stdout",
     "output_type": "stream",
     "text": [
      "a| 0 1 2 3\r\n",
      "b| 0 1 2 3\r\n"
     ]
    }
   ],
   "source": [
    "show d:`a`b!(til 4;til 4)"
   ]
  },
  {
   "cell_type": "markdown",
   "id": "f7254563",
   "metadata": {},
   "source": [
    "We can convert a column dictionary into a table by applying `flip`. This turns the dictionary into a table where keys become column names and values become the rows."
   ]
  },
  {
   "cell_type": "code",
   "execution_count": 4,
   "id": "a7a4c3a4",
   "metadata": {},
   "outputs": [
    {
     "data": {
      "text/plain": [
       "a b\r\n",
       "---\r\n",
       "0 0\r\n",
       "1 1\r\n",
       "2 2\r\n",
       "3 3\r\n"
      ]
     },
     "execution_count": 4,
     "metadata": {},
     "output_type": "execute_result"
    }
   ],
   "source": [
    "flip d"
   ]
  },
  {
   "cell_type": "markdown",
   "id": "1fc3713d",
   "metadata": {},
   "source": [
    "<div class=\"alert alert-warning\">\n",
    "One of the keys of why kdb is so efficient is that kdb database is column oriented rather than row-oriented, as in traditional relational databases like SQL. This means data is stored by columns, not rows.\n",
    "</div>"
   ]
  },
  {
   "cell_type": "markdown",
   "id": "d1d8a21e",
   "metadata": {},
   "source": [
    "Going back to our problem, we need to gen a price table.\n",
    "What do we need to gen one example of our price table?\n",
    "- Temporal column\n",
    "- Sym column\n",
    "- Price column"
   ]
  },
  {
   "cell_type": "markdown",
   "id": "114d9d95",
   "metadata": {},
   "source": [
    "To build the temporal column whe have the built-in `hour` type, that simplifies working with time values, allowing you to perform operations directly on hours."
   ]
  },
  {
   "cell_type": "code",
   "execution_count": 28,
   "id": "66757d4a",
   "metadata": {},
   "outputs": [
    {
     "name": "stdout",
     "output_type": "stream",
     "text": [
      "09:00 09:01 09:02 09:00 09:01 09:02 09:00 09:01 09:02\r\n"
     ]
    }
   ],
   "source": [
    "9#09:00+til 3"
   ]
  },
  {
   "cell_type": "markdown",
   "id": "007b4411",
   "metadata": {},
   "source": [
    "But we need something more, we need to sort ascendelly the hours, so we are going to use `asc` keyword to handle that"
   ]
  },
  {
   "cell_type": "code",
   "execution_count": 29,
   "id": "7dd14390",
   "metadata": {},
   "outputs": [
    {
     "name": "stdout",
     "output_type": "stream",
     "text": [
      "`s#09:00 09:00 09:00 09:01 09:01 09:01 09:02 09:02 09:02\r\n"
     ]
    }
   ],
   "source": [
    "show ts:asc 9#09:00+til 3"
   ]
  },
  {
   "cell_type": "markdown",
   "id": "1d038a10",
   "metadata": {},
   "source": [
    "<div class=\"alert alert-warning\">\n",
    "Look a the `s#` at the beginning of the output. It means that, that list has the *sorted* atribbute, meaning the data is recognized by q as being in sorted order, which allows for faster lookups and optimizations during queries\n",
    "</div>"
   ]
  },
  {
   "cell_type": "markdown",
   "id": "2b5e29c4",
   "metadata": {},
   "source": [
    "Similarly, we can create a list of symbols for the assets"
   ]
  },
  {
   "cell_type": "code",
   "execution_count": 6,
   "id": "bb31eb01",
   "metadata": {},
   "outputs": [
    {
     "name": "stdout",
     "output_type": "stream",
     "text": [
      "`AAPL`AMZN`GOOG`AAPL`AMZN`GOOG`AAPL`AMZN`GOOG\r\n"
     ]
    }
   ],
   "source": [
    "show syms:9#`AAPL`AMZN`GOOG"
   ]
  },
  {
   "cell_type": "markdown",
   "id": "cec16ae9",
   "metadata": {},
   "source": [
    "Finally, we are going to need to generate random data, lets use `roll` `?`, for example to roll a dice 10 times, and set a seed with `\\S` to ensure the same output each time"
   ]
  },
  {
   "cell_type": "code",
   "execution_count": 32,
   "id": "5e533ba9",
   "metadata": {},
   "outputs": [
    {
     "data": {
      "text/plain": [
       "3 3 0 0 1 0 0 5 2 4\r\n"
      ]
     },
     "execution_count": 32,
     "metadata": {},
     "output_type": "execute_result"
    }
   ],
   "source": [
    "\\S 7\n",
    "10?6"
   ]
  },
  {
   "cell_type": "markdown",
   "id": "7255492e",
   "metadata": {},
   "source": [
    "Left number is the number of times and right number is the limit number, so let's first generate starting prices "
   ]
  },
  {
   "cell_type": "code",
   "execution_count": 33,
   "id": "f9f280cb",
   "metadata": {},
   "outputs": [
    {
     "data": {
      "text/plain": [
       "17.57755 93.62212 15.20677\r\n"
      ]
     },
     "execution_count": 33,
     "metadata": {},
     "output_type": "execute_result"
    }
   ],
   "source": [
    "3?100f "
   ]
  },
  {
   "cell_type": "markdown",
   "id": "c80ae3e7",
   "metadata": {},
   "source": [
    "And then we generate randomly the price jumps between each instant of time. In order to sum the jumps to the starting points, we need to reshape the starting points, so both lists conform "
   ]
  },
  {
   "cell_type": "code",
   "execution_count": 34,
   "id": "ab537ae4",
   "metadata": {},
   "outputs": [
    {
     "name": "stdout",
     "output_type": "stream",
     "text": [
      "96.26213 78.44964 75.3932 96.27035 78.42006 75.3768 96.27845 78.42342 75.37487\r\n"
     ]
    }
   ],
   "source": [
    "\\S 7\n",
    "show p: (9?0.05) + 9#3?100f "
   ]
  },
  {
   "cell_type": "markdown",
   "id": "33d8b584",
   "metadata": {},
   "source": [
    "Now, we have the ingredients to create our column dictionary ..."
   ]
  },
  {
   "cell_type": "code",
   "execution_count": 11,
   "id": "11489723",
   "metadata": {},
   "outputs": [
    {
     "name": "stdout",
     "output_type": "stream",
     "text": [
      "t    | 09:00    09:00    09:00   09:01    09:01    09:01   09:02    09:02    ..\r\n",
      "sym  | AAPL     AMZN     GOOG    AAPL     AMZN     GOOG    AAPL     AMZN     ..\r\n",
      "price| 96.26213 78.44964 75.3932 96.27035 78.42006 75.3768 96.27845 78.42342 ..\r\n"
     ]
    }
   ],
   "source": [
    "show d: `t`sym`price!(ts;syms;p)"
   ]
  },
  {
   "cell_type": "markdown",
   "id": "59a1f619",
   "metadata": {},
   "source": [
    "... and our table will be ready just flipping the dictionary"
   ]
  },
  {
   "cell_type": "code",
   "execution_count": 12,
   "id": "5fdd81ae",
   "metadata": {},
   "outputs": [
    {
     "name": "stdout",
     "output_type": "stream",
     "text": [
      "t     sym  price   \r\n",
      "-------------------\r\n",
      "09:00 AAPL 96.26213\r\n",
      "09:00 AMZN 78.44964\r\n",
      "09:00 GOOG 75.3932 \r\n",
      "09:01 AAPL 96.27035\r\n",
      "09:01 AMZN 78.42006\r\n",
      "09:01 GOOG 75.3768 \r\n",
      "09:02 AAPL 96.27845\r\n",
      "09:02 AMZN 78.42342\r\n",
      "09:02 GOOG 75.37487\r\n"
     ]
    }
   ],
   "source": [
    "show t1: flip d"
   ]
  },
  {
   "cell_type": "markdown",
   "id": "98ea1853",
   "metadata": {},
   "source": [
    "Finally, there's another syntax to create a dictionary"
   ]
  },
  {
   "cell_type": "code",
   "execution_count": 35,
   "id": "e25ac51a",
   "metadata": {},
   "outputs": [
    {
     "data": {
      "text/plain": [
       "t     sym  price   \r\n",
       "-------------------\r\n",
       "09:00 AAPL 96.26213\r\n",
       "09:00 AMZN 78.44964\r\n",
       "09:00 GOOG 75.3932 \r\n",
       "09:01 AAPL 96.27035\r\n",
       "09:01 AMZN 78.42006\r\n",
       "09:01 GOOG 75.3768 \r\n",
       "09:02 AAPL 96.27845\r\n",
       "09:02 AMZN 78.42342\r\n",
       "09:02 GOOG 75.37487\r\n"
      ]
     },
     "execution_count": 35,
     "metadata": {},
     "output_type": "execute_result"
    }
   ],
   "source": [
    "([]t:ts;sym:syms;price:p)"
   ]
  },
  {
   "cell_type": "markdown",
   "id": "d80ae3d0",
   "metadata": {},
   "source": [
    "### SQL in the Q world"
   ]
  },
  {
   "cell_type": "markdown",
   "id": "56356b6f",
   "metadata": {},
   "source": [
    "By now, we know what a table is and how to create one in q. Next, we'll explore what we can do with tables using qSQL, a set of SQL-like functions in q. These operations will feel familiar if you have SQL experience."
   ]
  },
  {
   "cell_type": "markdown",
   "id": "a482a234",
   "metadata": {},
   "source": [
    "<div class=\"alert alert-info\">\n",
    "Using your previous SQL knowledge, how would you select all columns from a table?\n",
    "<div>"
   ]
  },
  {
   "cell_type": "code",
   "execution_count": 14,
   "id": "52139ee8",
   "metadata": {},
   "outputs": [
    {
     "data": {
      "text/plain": [
       "t     sym  price   \r\n",
       "-------------------\r\n",
       "09:00 AAPL 96.26213\r\n",
       "09:00 AMZN 78.44964\r\n",
       "09:00 GOOG 75.3932 \r\n",
       "09:01 AAPL 96.27035\r\n",
       "09:01 AMZN 78.42006\r\n",
       "09:01 GOOG 75.3768 \r\n",
       "09:02 AAPL 96.27845\r\n",
       "09:02 AMZN 78.42342\r\n",
       "09:02 GOOG 75.37487\r\n"
      ]
     },
     "execution_count": 14,
     "metadata": {},
     "output_type": "execute_result"
    }
   ],
   "source": [
    "select from t1"
   ]
  },
  {
   "cell_type": "markdown",
   "id": "c7bb0cc7",
   "metadata": {},
   "source": [
    "Filtering rows is just as simple."
   ]
  },
  {
   "cell_type": "code",
   "execution_count": 15,
   "id": "5cba5d83",
   "metadata": {},
   "outputs": [
    {
     "data": {
      "text/plain": [
       "t     sym  price   \r\n",
       "-------------------\r\n",
       "09:00 AAPL 96.26213\r\n",
       "09:01 AAPL 96.27035\r\n",
       "09:02 AAPL 96.27845\r\n"
      ]
     },
     "execution_count": 15,
     "metadata": {},
     "output_type": "execute_result"
    }
   ],
   "source": [
    "select from t1 where sym=`AAPL"
   ]
  },
  {
   "cell_type": "markdown",
   "id": "00c30226",
   "metadata": {},
   "source": [
    "We can also create new columns or select specific ones. Here's an example of calculating the average price for `AAPL`"
   ]
  },
  {
   "cell_type": "code",
   "execution_count": 16,
   "id": "6a23fc7f",
   "metadata": {},
   "outputs": [
    {
     "data": {
      "text/plain": [
       "price   \r\n",
       "--------\r\n",
       "96.27031\r\n"
      ]
     },
     "execution_count": 16,
     "metadata": {},
     "output_type": "execute_result"
    }
   ],
   "source": [
    "select avg price from t1 where sym=`AAPL"
   ]
  },
  {
   "cell_type": "markdown",
   "id": "400137b9",
   "metadata": {},
   "source": [
    "In qSQL, `update` behaves like `select` but it creates or modifies columns without changing the original table. For example, let's add a `mean` column to our table."
   ]
  },
  {
   "cell_type": "code",
   "execution_count": 17,
   "id": "237e1b12",
   "metadata": {},
   "outputs": [
    {
     "data": {
      "text/plain": [
       "t     sym  price    mean    \r\n",
       "----------------------------\r\n",
       "09:00 AAPL 96.26213 83.36099\r\n",
       "09:00 AMZN 78.44964 83.36099\r\n",
       "09:00 GOOG 75.3932  83.36099\r\n",
       "09:01 AAPL 96.27035 83.36099\r\n",
       "09:01 AMZN 78.42006 83.36099\r\n",
       "09:01 GOOG 75.3768  83.36099\r\n",
       "09:02 AAPL 96.27845 83.36099\r\n",
       "09:02 AMZN 78.42342 83.36099\r\n",
       "09:02 GOOG 75.37487 83.36099\r\n"
      ]
     },
     "execution_count": 17,
     "metadata": {},
     "output_type": "execute_result"
    }
   ],
   "source": [
    "update mean:avg price from t1"
   ]
  },
  {
   "cell_type": "markdown",
   "id": "a9e8262b",
   "metadata": {},
   "source": [
    "Grouping and aggregating is also straightforward using the `by` clause, similar to SQL's `GROUP BY`."
   ]
  },
  {
   "cell_type": "code",
   "execution_count": 18,
   "id": "3a832bab",
   "metadata": {},
   "outputs": [
    {
     "name": "stdout",
     "output_type": "stream",
     "text": [
      "sym | price   \r\n",
      "----| --------\r\n",
      "AAPL| 96.27031\r\n",
      "AMZN| 78.43104\r\n",
      "GOOG| 75.38162\r\n"
     ]
    }
   ],
   "source": [
    "show kt: select avg price by sym from t1"
   ]
  },
  {
   "cell_type": "markdown",
   "id": "8f73ec75",
   "metadata": {},
   "source": [
    "Hmm, what's that vertical line we see in our grouped table?"
   ]
  },
  {
   "cell_type": "markdown",
   "id": "91b09ab4",
   "metadata": {},
   "source": [
    "This is a `keyed table`. It's actually a dictionary that maps key records to value records. We can access individual records using dictionary-like syntax."
   ]
  },
  {
   "cell_type": "code",
   "execution_count": 19,
   "id": "98ce8910",
   "metadata": {},
   "outputs": [
    {
     "data": {
      "text/plain": [
       "price| 96.27031\r\n"
      ]
     },
     "execution_count": 19,
     "metadata": {},
     "output_type": "execute_result"
    }
   ],
   "source": [
    "kt[`AAPL]"
   ]
  },
  {
   "cell_type": "markdown",
   "id": "1a71fde8",
   "metadata": {},
   "source": [
    " <div class=\"alert alert-warning\">\n",
    " Warning! A keyed table is not a table, it's a dictionary\n",
    " <div>"
   ]
  },
  {
   "cell_type": "code",
   "execution_count": 20,
   "id": "6f7445ce",
   "metadata": {},
   "outputs": [
    {
     "data": {
      "text/plain": [
       "99h\r\n"
      ]
     },
     "execution_count": 20,
     "metadata": {},
     "output_type": "execute_result"
    }
   ],
   "source": [
    "type kt"
   ]
  },
  {
   "cell_type": "markdown",
   "id": "0ac9f626",
   "metadata": {},
   "source": [
    "## Getting previous element"
   ]
  },
  {
   "cell_type": "markdown",
   "id": "f2c28ff8",
   "metadata": {},
   "source": [
    "Focusing back in the problem, we aim to compute the average of the current price with the previous price for each symbol. To access the previous value in a sequence, we can use the `prev` keyword in q. Let's see how it works."
   ]
  },
  {
   "cell_type": "code",
   "execution_count": 21,
   "id": "0f9d258d",
   "metadata": {},
   "outputs": [
    {
     "data": {
      "text/plain": [
       "0N 100 200\r\n"
      ]
     },
     "execution_count": 21,
     "metadata": {},
     "output_type": "execute_result"
    }
   ],
   "source": [
    "prev 100 200 120"
   ]
  },
  {
   "cell_type": "markdown",
   "id": "f9a2eba1",
   "metadata": {},
   "source": [
    "Notice that the first element is `0N` (null) since there's no preceding value. To avoid this, we can use the `fill` (`^`) keyword to fill the nulls with appropriate values"
   ]
  },
  {
   "cell_type": "code",
   "execution_count": 22,
   "id": "344fe4f7",
   "metadata": {},
   "outputs": [
    {
     "data": {
      "text/plain": [
       "4\r\n"
      ]
     },
     "execution_count": 22,
     "metadata": {},
     "output_type": "execute_result"
    }
   ],
   "source": [
    "4^0N"
   ]
  },
  {
   "cell_type": "code",
   "execution_count": 23,
   "id": "c4b0af82",
   "metadata": {},
   "outputs": [
    {
     "data": {
      "text/plain": [
       "100 300 320\r\n"
      ]
     },
     "execution_count": 23,
     "metadata": {},
     "output_type": "execute_result"
    }
   ],
   "source": [
    "100 200 120^100 200 120 + prev 100 200 120"
   ]
  },
  {
   "cell_type": "code",
   "execution_count": 24,
   "id": "b1cff376",
   "metadata": {},
   "outputs": [
    {
     "data": {
      "text/plain": [
       "0n 150 160\r\n"
      ]
     },
     "execution_count": 24,
     "metadata": {},
     "output_type": "execute_result"
    }
   ],
   "source": [
    "(100 200 120 + prev 100 200 120)%2"
   ]
  },
  {
   "cell_type": "markdown",
   "id": "09d0ebf8",
   "metadata": {},
   "source": [
    "Let's now integrate this logic with our table operations using qSQL syntax to compute the average for each symbol's prices."
   ]
  },
  {
   "cell_type": "code",
   "execution_count": 25,
   "id": "cb26d067",
   "metadata": {},
   "outputs": [
    {
     "data": {
      "text/plain": [
       "t     sym  price   \r\n",
       "-------------------\r\n",
       "09:00 AAPL 96.26213\r\n",
       "09:00 AMZN 78.44964\r\n",
       "09:00 GOOG 75.3932 \r\n",
       "09:01 AAPL 96.26624\r\n",
       "09:01 AMZN 78.43485\r\n",
       "09:01 GOOG 75.385  \r\n",
       "09:02 AAPL 96.2744 \r\n",
       "09:02 AMZN 78.42174\r\n",
       "09:02 GOOG 75.37584\r\n"
      ]
     },
     "execution_count": 25,
     "metadata": {},
     "output_type": "execute_result"
    }
   ],
   "source": [
    "update price:price^%[;2]price+prev price by sym from t1"
   ]
  },
  {
   "cell_type": "markdown",
   "id": "0a24df12",
   "metadata": {},
   "source": [
    "Finally, we just need to encapsulate it in a function"
   ]
  },
  {
   "cell_type": "code",
   "execution_count": 26,
   "id": "26825525",
   "metadata": {},
   "outputs": [],
   "source": [
    "f : {update price:price^%[;2]price+prev price by sym from x}"
   ]
  },
  {
   "cell_type": "markdown",
   "id": "39fbfe7f",
   "metadata": {},
   "source": [
    "We got it!"
   ]
  },
  {
   "cell_type": "markdown",
   "id": "51da3791",
   "metadata": {},
   "source": [
    "## InterConnection"
   ]
  },
  {
   "cell_type": "markdown",
   "id": "67da7300",
   "metadata": {},
   "source": [
    "kdb+ supplies interprocess communication (IPC), which enables communication between different q processes. To demonstrate this, we need to start the server side of a q process.\n",
    "\n",
    "We can begin by listening for incoming requests by using `\\p` followed by a port number."
   ]
  },
  {
   "cell_type": "code",
   "execution_count": 27,
   "id": "81231076",
   "metadata": {},
   "outputs": [],
   "source": [
    "\\p 5010"
   ]
  },
  {
   "cell_type": "code",
   "execution_count": null,
   "id": "ce07ee4a",
   "metadata": {},
   "outputs": [],
   "source": []
  }
 ],
 "metadata": {
  "kernelspec": {
   "display_name": "Q (kdb+)",
   "language": "q",
   "name": "qpk"
  },
  "language_info": {
   "file_extension": ".q",
   "mimetype": "text/x-q",
   "name": "q",
   "version": "4.0"
  }
 },
 "nbformat": 4,
 "nbformat_minor": 5
}
