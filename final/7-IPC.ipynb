{
 "cells": [
  {
   "cell_type": "markdown",
   "id": "f8c2a0d4",
   "metadata": {},
   "source": [
    "# Client process"
   ]
  },
  {
   "cell_type": "markdown",
   "id": "63b9f3f8",
   "metadata": {},
   "source": [
    "We use `hopen` to get a connection handle. We pass it the communication handle as an argument, pointing at the recently opened port."
   ]
  },
  {
   "cell_type": "code",
   "execution_count": 1,
   "id": "bc07f0d7",
   "metadata": {},
   "outputs": [],
   "source": [
    "rdb: hopen `::5001"
   ]
  },
  {
   "cell_type": "markdown",
   "id": "e1c7e4ed",
   "metadata": {},
   "source": [
    "Once we get the handle, we can execute expressions at the server by passing them to it quoted:"
   ]
  },
  {
   "cell_type": "code",
   "execution_count": 2,
   "id": "06b9d1fa",
   "metadata": {},
   "outputs": [
    {
     "data": {
      "text/plain": [
       "2\r\n"
      ]
     },
     "execution_count": 2,
     "metadata": {},
     "output_type": "execute_result"
    }
   ],
   "source": [
    "rdb\"1+1\""
   ]
  },
  {
   "cell_type": "markdown",
   "id": "47baf85b",
   "metadata": {},
   "source": [
    "For example, we can gather data that is in memory in that process"
   ]
  },
  {
   "cell_type": "code",
   "execution_count": 4,
   "id": "0ef94932",
   "metadata": {},
   "outputs": [],
   "source": [
    "t: rdb\"t1\""
   ]
  },
  {
   "cell_type": "markdown",
   "id": "32ce3b64",
   "metadata": {},
   "source": [
    "Or we can ask the server to execute a function defined at the server with the data that we provide using the parse tree syntax"
   ]
  },
  {
   "cell_type": "code",
   "execution_count": 5,
   "id": "f7c53615",
   "metadata": {},
   "outputs": [
    {
     "data": {
      "text/plain": [
       "t     sym  price   \r\n",
       "-------------------\r\n",
       "09:00 AAPL 96.26213\r\n",
       "09:00 AMZN 87.35589\r\n",
       "09:00 GOOG 76.92142\r\n",
       "09:01 AAPL 85.83178\r\n",
       "09:01 AMZN 87.34521\r\n",
       "09:01 GOOG 76.89843\r\n",
       "09:02 AAPL 85.82762\r\n",
       "09:02 AMZN 87.35093\r\n",
       "09:02 GOOG 76.89915\r\n"
      ]
     },
     "execution_count": 5,
     "metadata": {},
     "output_type": "execute_result"
    }
   ],
   "source": [
    "rdb(`f;t)"
   ]
  },
  {
   "cell_type": "markdown",
   "id": "23cc4b23",
   "metadata": {},
   "source": [
    "As a final step, don't forget to close the connection!"
   ]
  },
  {
   "cell_type": "code",
   "execution_count": 6,
   "id": "c43e05f3",
   "metadata": {},
   "outputs": [],
   "source": [
    "hclose rdb"
   ]
  },
  {
   "cell_type": "code",
   "execution_count": null,
   "id": "80ef9703-9692-4210-a21c-afdc4484e385",
   "metadata": {},
   "outputs": [],
   "source": []
  }
 ],
 "metadata": {
  "kernelspec": {
   "display_name": "Q (kdb+)",
   "language": "q",
   "name": "qpk"
  },
  "language_info": {
   "file_extension": ".q",
   "mimetype": "text/x-q",
   "name": "q",
   "version": "4.0"
  }
 },
 "nbformat": 4,
 "nbformat_minor": 5
}
