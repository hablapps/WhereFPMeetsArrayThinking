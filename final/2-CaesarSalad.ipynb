{
 "cells": [
  {
   "cell_type": "markdown",
   "id": "459404f5-dc8f-429a-a7fb-916a5fc8dac9",
   "metadata": {},
   "source": [
    "# 🥗 Caesar Salad"
   ]
  },
  {
   "cell_type": "markdown",
   "id": "f825d22b-3113-485a-b83d-65fa7bb110c3",
   "metadata": {},
   "source": [
    "The initial step in our conceptual solution involves creating our dictionary with uppercase letters. Fortunately, q provides us with the tools for this task."
   ]
  },
  {
   "cell_type": "markdown",
   "id": "8670ded5-4fbb-4d42-a449-d708110d5a33",
   "metadata": {},
   "source": [
    "## Hello ~String~ Array of Chars"
   ]
  },
  {
   "cell_type": "markdown",
   "id": "734f3922-aafe-459c-a5f5-5e5e12925849",
   "metadata": {},
   "source": [
    "As expected, Q includes characters as a basic datatype."
   ]
  },
  {
   "cell_type": "code",
   "execution_count": 45,
   "id": "a60185c6-7a95-4484-89d7-b945e1030dde",
   "metadata": {},
   "outputs": [
    {
     "data": {
      "text/plain": [
       "\" \"\n"
      ]
     },
     "execution_count": 45,
     "metadata": {},
     "output_type": "execute_result"
    }
   ],
   "source": [
    "\" \""
   ]
  },
  {
   "cell_type": "markdown",
   "id": "9f2dd895-244a-47dd-9bee-ad5448fbeb23",
   "metadata": {},
   "source": [
    "We could use the general list notation to create a vector of characters."
   ]
  },
  {
   "cell_type": "code",
   "execution_count": 46,
   "id": "f7118584-4bc5-4591-bf37-5b70ca57db7b",
   "metadata": {},
   "outputs": [
    {
     "data": {
      "text/plain": [
       "\" ABCD\"\n"
      ]
     },
     "execution_count": 46,
     "metadata": {},
     "output_type": "execute_result"
    }
   ],
   "source": [
    "(\" \";\"A\";\"B\";\"C\";\"D\")"
   ]
  },
  {
   "cell_type": "markdown",
   "id": "f0ccf3de-a7a5-46ff-a00e-9a2dae45279f",
   "metadata": {},
   "source": [
    "Remember that vector literals typically have a more convenient notation."
   ]
  },
  {
   "cell_type": "code",
   "execution_count": null,
   "id": "0738b26e-9970-4480-983b-97d7c8fd7537",
   "metadata": {},
   "outputs": [],
   "source": [
    "\" ABCD\""
   ]
  },
  {
   "cell_type": "markdown",
   "id": "531bb3f4-8542-4072-934a-0d90ce22e56c",
   "metadata": {},
   "source": [
    "<div class=\"alert alert-warning\">\n",
    "Note that Q doesn't have 'String' as a basic datatype. Instead, we have a vector of characters and a special notation for its literals.\n",
    "</div>"
   ]
  },
  {
   "cell_type": "markdown",
   "id": "70e286b5-8a2c-4b25-a9a3-0e3e75e572b4",
   "metadata": {},
   "source": [
    "Fortunately, we don't need to write the whole alphabet ourselves; q helps in this task by supplying `.Q.A`."
   ]
  },
  {
   "cell_type": "code",
   "execution_count": 47,
   "id": "3f5d4dd8-7c37-495a-9e41-4fce209894af",
   "metadata": {},
   "outputs": [
    {
     "data": {
      "text/plain": [
       "\"ABCDEFGHIJKLMNOPQRSTUVWXYZ\"\n"
      ]
     },
     "execution_count": 47,
     "metadata": {},
     "output_type": "execute_result"
    }
   ],
   "source": [
    ".Q.A"
   ]
  },
  {
   "cell_type": "markdown",
   "id": "7dd03d37-e01a-4095-a154-ebbf8c9c76c1",
   "metadata": {},
   "source": [
    "<div class=\"alert alert-success\">\n",
    "`.Q` is a namespace where we can find common tools and utilities.\n",
    "</div>"
   ]
  },
  {
   "cell_type": "markdown",
   "id": "0c15324d-9ffb-468e-ba90-e0ef5a8a382f",
   "metadata": {},
   "source": [
    "As obvious, `.Q.A` lacks the whitespace character, as specified by the problem, but we can use the _join_ (`,`) primitive to prepend it."
   ]
  },
  {
   "cell_type": "code",
   "execution_count": 49,
   "id": "f7711b7c-bb60-40a2-b6a7-6aaed546b8b3",
   "metadata": {
    "scrolled": true
   },
   "outputs": [
    {
     "data": {
      "text/plain": [
       "\" ABCDEFGHIJKLMNOPQRSTUVWXYZ\"\n"
      ]
     },
     "execution_count": 49,
     "metadata": {},
     "output_type": "execute_result"
    }
   ],
   "source": [
    "\" \",.Q.A"
   ]
  },
  {
   "cell_type": "markdown",
   "id": "524e5b92-3a61-41e9-b924-516bc6afd62f",
   "metadata": {},
   "source": [
    "Now we have an alphabet to play with!"
   ]
  },
  {
   "cell_type": "markdown",
   "id": "29a6aecc-ffad-44d0-b0bc-1205af215c21",
   "metadata": {},
   "source": [
    "## Indexing and Finding Elements in Arrays"
   ]
  },
  {
   "cell_type": "markdown",
   "id": "cf9731cf-e6fe-49bd-be1b-ac8629c19d32",
   "metadata": {},
   "source": [
    "To continue advancing in our solution, we need to be able to find the position of a given character in the alphabet. Why not using [_find_](https://code.kx.com/q/ref/find/) (`?`) for the task?"
   ]
  },
  {
   "cell_type": "code",
   "execution_count": 50,
   "id": "76e21959-77f8-48e8-84c0-cff9de641e5b",
   "metadata": {},
   "outputs": [
    {
     "data": {
      "text/plain": [
       "7\n"
      ]
     },
     "execution_count": 50,
     "metadata": {},
     "output_type": "execute_result"
    }
   ],
   "source": [
    ".Q.A?\"H\""
   ]
  },
  {
   "cell_type": "markdown",
   "id": "353d2a2d-9d45-41a1-8458-86cfda77af75",
   "metadata": {},
   "source": [
    "This is great! But we still need to figure out how to iterate over all the characters of \"HELLO\" to find each one, don't we?\n",
    "\n",
    "Not really!"
   ]
  },
  {
   "cell_type": "code",
   "execution_count": 52,
   "id": "5ae71d3c-6708-4eb9-b4ce-91bb862d5496",
   "metadata": {},
   "outputs": [
    {
     "data": {
      "text/plain": [
       "7 4 11 11 14\n"
      ]
     },
     "execution_count": 52,
     "metadata": {},
     "output_type": "execute_result"
    }
   ],
   "source": [
    ".Q.A?\"HELLO\""
   ]
  },
  {
   "cell_type": "markdown",
   "id": "91f33106-4b88-41f1-8ee8-9f4b9eec4338",
   "metadata": {},
   "source": [
    "As you can see, we obtain the positions of all characters by simply passing the entire 'string'.\n",
    "\n",
    "<div class=\"alert alert-success\">\n",
    "Forget about loops! Let's focus on 'what' needs to be done rather than 'how' to do it.\n",
    "</div>\n",
    "\n",
    "We could go even further; what if we pass a matrix (a list of lists) as an argument to the _find_ primitive?"
   ]
  },
  {
   "cell_type": "code",
   "execution_count": 53,
   "id": "1d7d1cc7-6c01-4562-a0a6-4e03874329e0",
   "metadata": {},
   "outputs": [
    {
     "data": {
      "text/plain": [
       "\"HELLO\"\n",
       "\"WORLD\"\n"
      ]
     },
     "execution_count": 53,
     "metadata": {},
     "output_type": "execute_result"
    }
   ],
   "source": [
    "(\"HELLO\";\"WORLD\")"
   ]
  },
  {
   "cell_type": "code",
   "execution_count": 54,
   "id": "37dd8669-8fcb-4d42-abbb-3f659f435247",
   "metadata": {},
   "outputs": [
    {
     "data": {
      "text/plain": [
       "7  4  11 11 14\n",
       "22 14 17 11 3 \n"
      ]
     },
     "execution_count": 54,
     "metadata": {},
     "output_type": "execute_result"
    }
   ],
   "source": [
    ".Q.A?(\"HELLO\";\"WORLD\")"
   ]
  },
  {
   "cell_type": "markdown",
   "id": "0603cc58-cbe7-4bb5-ab52-ad24e896c2fe",
   "metadata": {},
   "source": [
    "Indeed, we obtain a list of lists of positions! Using the same primitives to work with multi-dimensional arrays lies at the core of _Array Thinking_. Pretty cool, right?"
   ]
  },
  {
   "cell_type": "markdown",
   "id": "f00bbe7d-283f-4d07-9140-4307eb503a5f",
   "metadata": {},
   "source": [
    "Let's consider another example related to the previous idea: when we simply pass a position to an array, we retrieve the element at that position. This not only works with scalars, but also with vectors and matrixes."
   ]
  },
  {
   "cell_type": "code",
   "execution_count": 55,
   "id": "0cdb24b2-a03c-48d0-8e35-52e6c66d90c7",
   "metadata": {},
   "outputs": [
    {
     "data": {
      "text/plain": [
       "\"E\"\n"
      ]
     },
     "execution_count": 55,
     "metadata": {},
     "output_type": "execute_result"
    }
   ],
   "source": [
    "\"HELLO\"[1]"
   ]
  },
  {
   "cell_type": "code",
   "execution_count": 56,
   "id": "67a31437-fc9a-4819-a7ab-18287e87ccad",
   "metadata": {},
   "outputs": [
    {
     "data": {
      "text/plain": [
       "\"E\"\n"
      ]
     },
     "execution_count": 56,
     "metadata": {},
     "output_type": "execute_result"
    }
   ],
   "source": [
    "\"HELLO\"1"
   ]
  },
  {
   "cell_type": "code",
   "execution_count": 57,
   "id": "7312290d-d66a-4974-9c47-da9fa26c64ca",
   "metadata": {},
   "outputs": [
    {
     "data": {
      "text/plain": [
       "\"ELL\"\n"
      ]
     },
     "execution_count": 57,
     "metadata": {},
     "output_type": "execute_result"
    }
   ],
   "source": [
    "\"HELLO\"1 2 3"
   ]
  },
  {
   "cell_type": "markdown",
   "id": "cd6a0b6d-cfe7-489a-b90c-48c66a493f63",
   "metadata": {},
   "source": [
    "<div class=\"alert alert-success\">\n",
    "In q, lists behave like a kind of function: they take the index as an argument and produce the corresponding value as output.\n",
    "    \n",
    "> Any Scala programmer in the room? This feels like the `apply` method.\n",
    "</div>"
   ]
  },
  {
   "cell_type": "markdown",
   "id": "1bdbae61-09fd-4cf0-8c80-a2b828ad81ca",
   "metadata": {},
   "source": [
    "## Reading it Backwards"
   ]
  },
  {
   "cell_type": "markdown",
   "id": "ffaf1fb9-d4d8-467d-b294-9dde457334f6",
   "metadata": {},
   "source": [
    "In the previous section, we ignored the prepended whitespace in the alphabet. Let's add it now!"
   ]
  },
  {
   "cell_type": "code",
   "execution_count": 58,
   "id": "08ec8379-fb33-40a5-b9bf-4fa0078a5885",
   "metadata": {},
   "outputs": [
    {
     "data": {
      "text/plain": [
       "7 4 11 11 14\n"
      ]
     },
     "execution_count": 58,
     "metadata": {},
     "output_type": "execute_result"
    }
   ],
   "source": [
    "\" \",.Q.A?\"HELLO\""
   ]
  },
  {
   "cell_type": "markdown",
   "id": "05e37384-ac07-4a95-9e20-2c3196898c00",
   "metadata": {},
   "source": [
    "<div class=\"alert alert-info\">\n",
    "What do you think of the previous expression? Does it behave as we want? What is the problem?\n",
    "</div>"
   ]
  },
  {
   "cell_type": "markdown",
   "id": "f6e9f986-7c22-4c21-8470-c3348b9e8dea",
   "metadata": {},
   "source": [
    "Wait a minute! We don't want to prepend the whitespace to the list of positions. We need to prepend it before performing the _find_ operation! To do so, we need to add parentheses on the left-hand side expression."
   ]
  },
  {
   "cell_type": "code",
   "execution_count": 59,
   "id": "7c34d47b-a660-4bb6-ac4c-f9552a212ea9",
   "metadata": {},
   "outputs": [
    {
     "data": {
      "text/plain": [
       "8 5 12 12 15\n"
      ]
     },
     "execution_count": 59,
     "metadata": {},
     "output_type": "execute_result"
    }
   ],
   "source": [
    "(\" \",.Q.A)?\"HELLO\""
   ]
  },
  {
   "cell_type": "markdown",
   "id": "77988c1a-87a4-4f02-a559-92f85c91f236",
   "metadata": {},
   "source": [
    "So, does it mean that `?` has precedence over `,`. Not quite! In fact, there's just one rule governing precedence: **the operation on the right always takes precedence**."
   ]
  },
  {
   "cell_type": "markdown",
   "id": "f3f92e23-9301-4e26-8092-d276ddb06699",
   "metadata": {},
   "source": [
    "<div class=\"alert alert-info\">\n",
    "What is the result of 2*3+4?\n",
    "</div>"
   ]
  },
  {
   "cell_type": "code",
   "execution_count": null,
   "id": "f0415e11-b3e9-4862-9971-304a76ba3bfb",
   "metadata": {},
   "outputs": [],
   "source": []
  },
  {
   "cell_type": "markdown",
   "id": "5471dbe8-2d5d-46f0-b3ea-486a09b45435",
   "metadata": {},
   "source": [
    "Sometimes, q feels like arabic! 😉"
   ]
  },
  {
   "cell_type": "markdown",
   "id": "08421eba-0015-477a-af9c-54a77f27dc03",
   "metadata": {},
   "source": [
    "## Rotate Positions"
   ]
  },
  {
   "cell_type": "markdown",
   "id": "842b3cdb-dbe6-413c-9a07-c9178fda937f",
   "metadata": {},
   "source": [
    "There's one ingredient still missing from our recipe: the ability to shift the elements of a list. Fortunately, we have the [`rotate`](https://code.kx.com/q/ref/rotate/) primitive at our disposal for this task."
   ]
  },
  {
   "cell_type": "code",
   "execution_count": 60,
   "id": "114b2408-b7a7-465d-9a82-b6015b83f4e7",
   "metadata": {},
   "outputs": [
    {
     "data": {
      "text/plain": [
       "\"BCDEFGHIJKLMNOPQRSTUVWXYZ A\"\n"
      ]
     },
     "execution_count": 60,
     "metadata": {},
     "output_type": "execute_result"
    }
   ],
   "source": [
    "2 rotate (\" \",.Q.A)"
   ]
  },
  {
   "cell_type": "markdown",
   "id": "92ec6004-c8eb-4a61-bf23-ff0fca13c40a",
   "metadata": {},
   "source": [
    "<div class=\"alert alert-warning\">\n",
    "Rotate is a so-called dyadic function because it takes two arguments. Primitive dyadic functions can be executed using infix notation. Note that you can also use the classical postfix syntax, such as rotate[1;.Q.A], where the left and right arguments are specified as the first and second arguments, respectively.\n",
    "</div>"
   ]
  },
  {
   "cell_type": "code",
   "execution_count": 61,
   "id": "1046f0fb-3611-4729-a0a4-2ec8595bba9b",
   "metadata": {},
   "outputs": [
    {
     "data": {
      "text/plain": [
       "\"BCDEFGHIJKLMNOPQRSTUVWXYZ A\"\n"
      ]
     },
     "execution_count": 61,
     "metadata": {},
     "output_type": "execute_result"
    }
   ],
   "source": [
    "rotate[2;\" \",.Q.A]"
   ]
  },
  {
   "cell_type": "markdown",
   "id": "8e22c683-7ad3-4bfc-ac1f-0a6bc8a4a68a",
   "metadata": {},
   "source": [
    "## Putting It All Together"
   ]
  },
  {
   "cell_type": "markdown",
   "id": "c041d999-be99-4fd8-b438-65b39d1bab56",
   "metadata": {},
   "source": [
    "Once we have introduced all parts, let's put them working together. First, let's recall the positions of the elements in the original (non-rotated) alphabet."
   ]
  },
  {
   "cell_type": "code",
   "execution_count": 65,
   "id": "dfc11965-e76f-4f34-ac9a-5f0a054e0049",
   "metadata": {},
   "outputs": [
    {
     "data": {
      "text/plain": [
       "8 5 12 12 15\n"
      ]
     },
     "execution_count": 65,
     "metadata": {},
     "output_type": "execute_result"
    }
   ],
   "source": [
    "(\" \",.Q.A)?\"HELLO\""
   ]
  },
  {
   "cell_type": "markdown",
   "id": "a6415fbf-d150-4f3e-8caf-f1cc005b6139",
   "metadata": {},
   "source": [
    "The next step involves indexing those positions in the rotated alphabet."
   ]
  },
  {
   "cell_type": "code",
   "execution_count": 66,
   "id": "f0497ece-6406-4b9d-9a18-9559bc6f7309",
   "metadata": {},
   "outputs": [
    {
     "data": {
      "text/plain": [
       "\"JGNNQ\"\n"
      ]
     },
     "execution_count": 66,
     "metadata": {},
     "output_type": "execute_result"
    }
   ],
   "source": [
    "rotate[2;\" \",.Q.A](\" \",.Q.A)?\"HELLO\""
   ]
  },
  {
   "cell_type": "markdown",
   "id": "36cb022e-afea-4fbb-bc76-73a19c4222e8",
   "metadata": {},
   "source": [
    "Notice the duplicated code used to build the alphabet? Q allows us to assign variables in the middle of an expression, which can help us improve this expression."
   ]
  },
  {
   "cell_type": "code",
   "execution_count": 67,
   "id": "8489ceab-7e10-43a6-85ce-fbfa6c5a0ec4",
   "metadata": {},
   "outputs": [
    {
     "data": {
      "text/plain": [
       "\"JGNNQ\"\n"
      ]
     },
     "execution_count": 67,
     "metadata": {},
     "output_type": "execute_result"
    }
   ],
   "source": [
    "rotate[2;a](a:\" \",.Q.A)?\"HELLO\""
   ]
  },
  {
   "cell_type": "markdown",
   "id": "91efc75d-2d08-48a7-8d42-891f7f763eac",
   "metadata": {},
   "source": [
    "So, we're done! We just need to generalise, assign a name and provide an invocation example."
   ]
  },
  {
   "cell_type": "code",
   "execution_count": 68,
   "id": "c7771df0-b4ce-4b81-a8f9-14bd2f1cc02b",
   "metadata": {},
   "outputs": [
    {
     "data": {
      "text/plain": [
       "\"JGNNQ\"\n"
      ]
     },
     "execution_count": 68,
     "metadata": {},
     "output_type": "execute_result"
    }
   ],
   "source": [
    "cs:{rotate[x;a](a:\" \",.Q.A)?y}\n",
    "cs[2;\"HELLO\"]"
   ]
  }
 ],
 "metadata": {
  "kernelspec": {
   "display_name": "Q (kdb+)",
   "language": "q",
   "name": "qpk"
  },
  "language_info": {
   "file_extension": ".q",
   "mimetype": "text/x-q",
   "name": "q",
   "version": "4.1.0"
  }
 },
 "nbformat": 4,
 "nbformat_minor": 5
}
