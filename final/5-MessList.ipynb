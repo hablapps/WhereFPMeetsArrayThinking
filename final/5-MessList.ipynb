{
 "cells": [
  {
   "cell_type": "markdown",
   "id": "93affb35-28c3-486b-b04f-b76e9765fe27",
   "metadata": {},
   "source": [
    "# 🧹 Mess With a List"
   ]
  },
  {
   "cell_type": "markdown",
   "id": "5b259883-cbd6-4635-bd11-2ee5174051bc",
   "metadata": {},
   "source": [
    "Do you dare to solve this mess?"
   ]
  },
  {
   "cell_type": "markdown",
   "id": "03846668-b5ac-4e21-8ea9-ccb4da64d6f0",
   "metadata": {},
   "source": [
    "## Basic Datatypes"
   ]
  },
  {
   "cell_type": "markdown",
   "id": "efee0319-edcf-41c8-aa99-a8e66f01a515",
   "metadata": {},
   "source": [
    "Q has many [datatypes](https://code.kx.com/q/basics/datatypes/) defined. We've already seen chars, longs, booleans etc., but there's a plethora of them. Each type has a numeric value identifying it. For example, boolean and long values are associated to numbers 1 and 7, respectively. Given a value, we could use `type` to get its associated type number."
   ]
  },
  {
   "cell_type": "code",
   "execution_count": 1,
   "id": "6e1b1d81-62d1-4ba3-a15c-5316e7558712",
   "metadata": {},
   "outputs": [
    {
     "data": {
      "text/plain": [
       "-9h\r\n"
      ]
     },
     "execution_count": 1,
     "metadata": {},
     "output_type": "execute_result"
    }
   ],
   "source": [
    "type 4.5"
   ]
  },
  {
   "cell_type": "markdown",
   "id": "1e6582bd-596c-4e2e-8b5e-8669b395d693",
   "metadata": {},
   "source": [
    "As you can see, the `h` accompanying numbers indicates that the type of the output is a _short_ value. We don't have that many types in q!\n",
    "\n",
    "What about the negative value? In q, a negative value implies a scalar, while a positive value indicates a list of elements of the corresponding type."
   ]
  },
  {
   "cell_type": "code",
   "execution_count": 3,
   "id": "581ec94a-dfdf-46d9-9a5f-ade2d686329a",
   "metadata": {},
   "outputs": [
    {
     "data": {
      "text/plain": [
       "9h\r\n"
      ]
     },
     "execution_count": 3,
     "metadata": {},
     "output_type": "execute_result"
    }
   ],
   "source": [
    "type 1.4 2.5 3.1"
   ]
  },
  {
   "cell_type": "markdown",
   "id": "ab088bba-ce63-4eac-ba15-08bbebbf6d32",
   "metadata": {},
   "source": [
    "What happens if we apply `type` to the input example? "
   ]
  },
  {
   "cell_type": "code",
   "execution_count": 4,
   "id": "c8ae10e3-e32d-48e2-8f62-f3b0d00705ac",
   "metadata": {
    "scrolled": true
   },
   "outputs": [
    {
     "data": {
      "text/plain": [
       "0h\r\n"
      ]
     },
     "execution_count": 4,
     "metadata": {},
     "output_type": "execute_result"
    }
   ],
   "source": [
    "type xs:(`a;2;2020.08.23;3.1;`b;4)"
   ]
  },
  {
   "cell_type": "markdown",
   "id": "539cfcfa-9d26-4f5d-a28a-df19109a236d",
   "metadata": {},
   "source": [
    "We get 0!?!? This is the type associated to general lists.\n",
    "\n",
    "<div class=\"alert alert-info\">\n",
    "How can we determine the type of each element instead of the type of the entire list?\n",
    "</div>"
   ]
  },
  {
   "cell_type": "code",
   "execution_count": 5,
   "id": "e34c2c41-4b9c-4677-9bd7-66af05d990ca",
   "metadata": {},
   "outputs": [
    {
     "data": {
      "text/plain": [
       "-11 -7 -14 -9 -11 -7h\r\n"
      ]
     },
     "execution_count": 5,
     "metadata": {},
     "output_type": "execute_result"
    }
   ],
   "source": [
    "type each xs"
   ]
  },
  {
   "cell_type": "markdown",
   "id": "724a488e",
   "metadata": {},
   "source": [
    "Let’s take a look at the data types we have here. We see a `-11`, which indicates that we have a `symbol`. This data type allows us to represent text. Unlike strings, which are typically lists of characters, symbols can represent multiple characters as a single, atomic value (scalar)"
   ]
  },
  {
   "cell_type": "code",
   "execution_count": 7,
   "id": "aeac0e08",
   "metadata": {},
   "outputs": [
    {
     "data": {
      "text/plain": [
       "`hello\r\n"
      ]
     },
     "execution_count": 7,
     "metadata": {},
     "output_type": "execute_result"
    }
   ],
   "source": [
    "`hello"
   ]
  },
  {
   "cell_type": "markdown",
   "id": "a3bc2788",
   "metadata": {},
   "source": [
    "On the other hand, we see a `-14`, which indicates a `date`. This is a native built-in datatype in kdb+ that allows us to handle dates efficiently. For example, you can easily add days to a date or subtract two dates to find the number of days that have passed between them, among other operations."
   ]
  },
  {
   "cell_type": "code",
   "execution_count": 9,
   "id": "5d221d0a-0fba-4125-980d-9ca3ea7793e7",
   "metadata": {},
   "outputs": [
    {
     "data": {
      "text/plain": [
       "365i\r\n"
      ]
     },
     "execution_count": 9,
     "metadata": {},
     "output_type": "execute_result"
    }
   ],
   "source": [
    "2024.01.01 - 2023.01.01"
   ]
  },
  {
   "cell_type": "markdown",
   "id": "d9b571ba-1672-4318-b5f7-b1e1ef9e7873",
   "metadata": {},
   "source": [
    "## Tidying Up"
   ]
  },
  {
   "cell_type": "markdown",
   "id": "df788579-a7f8-43ae-9ee0-d277f17befc3",
   "metadata": {},
   "source": [
    "Once we have determined the type for each value, the next step is to group together the values of the same type, using the [group](https://code.kx.com/q/ref/group/) primitive."
   ]
  },
  {
   "cell_type": "code",
   "execution_count": 10,
   "id": "fd80cf8e-4d13-4da3-b252-b6deaabe9391",
   "metadata": {},
   "outputs": [
    {
     "data": {
      "text/plain": [
       "-11| 0 4\r\n",
       "-7 | 1 5\r\n",
       "-14| ,2\r\n",
       "-9 | ,3\r\n"
      ]
     },
     "execution_count": 10,
     "metadata": {},
     "output_type": "execute_result"
    }
   ],
   "source": [
    "group type each xs"
   ]
  },
  {
   "cell_type": "markdown",
   "id": "14f44644-c207-4a8b-b858-99649f3a1aac",
   "metadata": {},
   "source": [
    "As stated by the official documentation:\n",
    "> Returns a _dictionary_ in which the keys are the distinct items of x, and the values the indexes where the distinct items occur.\n",
    "\n",
    "You can think of a dictionary as a relation of keys and values. We can easily create a dictionary by means of `!`, taking two lists as arguments"
   ]
  },
  {
   "cell_type": "code",
   "execution_count": 12,
   "id": "922e59d5-3613-4fb6-899c-dd259dd141b8",
   "metadata": {},
   "outputs": [
    {
     "data": {
      "text/plain": [
       "1| 3\r\n",
       "2| 4\r\n"
      ]
     },
     "execution_count": 12,
     "metadata": {},
     "output_type": "execute_result"
    }
   ],
   "source": [
    "1 2!3 4"
   ]
  },
  {
   "cell_type": "markdown",
   "id": "ae8b9743-868b-47e8-b964-0bf18bb9fc9e",
   "metadata": {},
   "source": [
    "We no longer care about the keys of our dictionary, so we can safely get rid of them by means of `value`."
   ]
  },
  {
   "cell_type": "code",
   "execution_count": 16,
   "id": "b4b2386c-f80b-4201-9286-f5387694988d",
   "metadata": {},
   "outputs": [
    {
     "data": {
      "text/plain": [
       "0 4\r\n",
       "1 5\r\n",
       ",2\r\n",
       ",3\r\n"
      ]
     },
     "execution_count": 16,
     "metadata": {},
     "output_type": "execute_result"
    }
   ],
   "source": [
    "value group type each xs"
   ]
  },
  {
   "cell_type": "markdown",
   "id": "07372568-4344-4a82-ae0f-3be128d5247d",
   "metadata": {},
   "source": [
    "At this point, we have a list of lists where each sublist represents all the positions of elements of the same type. Again, we don't care much about these positions; we just need to [`count`](https://code.kx.com/q/ref/count/) them."
   ]
  },
  {
   "cell_type": "code",
   "execution_count": 13,
   "id": "50746656-9840-475d-acfc-c8e5534c84a9",
   "metadata": {},
   "outputs": [
    {
     "data": {
      "text/plain": [
       "2 2 1 1\r\n"
      ]
     },
     "execution_count": 13,
     "metadata": {},
     "output_type": "execute_result"
    }
   ],
   "source": [
    "count each value group type each xs"
   ]
  },
  {
   "cell_type": "markdown",
   "id": "7362dc94-ca29-408a-ae51-f9f9b5e967e4",
   "metadata": {},
   "source": [
    "## Wrapping Up"
   ]
  },
  {
   "cell_type": "markdown",
   "id": "2378a1a4-d195-4cea-b343-70b30f6319b2",
   "metadata": {},
   "source": [
    "Finally, we just generalise the previous expression into a function. The adaptation is trivial."
   ]
  },
  {
   "cell_type": "code",
   "execution_count": 14,
   "id": "816be2ef-bef4-404d-9eaf-6a6107570463",
   "metadata": {},
   "outputs": [],
   "source": [
    "f: {count each value group type each x}"
   ]
  },
  {
   "cell_type": "markdown",
   "id": "592fb7aa-5e84-462f-8154-21091d6cceb2",
   "metadata": {},
   "source": [
    "Sometimes you'll find situations where the input parameter is omitted. This is an example of so-called tacit programming."
   ]
  },
  {
   "cell_type": "code",
   "execution_count": 15,
   "id": "2ebc3bb3-3e4a-4d84-a145-362e54b6e3bf",
   "metadata": {},
   "outputs": [],
   "source": [
    "f: count each value group type each ::"
   ]
  },
  {
   "cell_type": "code",
   "execution_count": null,
   "id": "8e972822-7704-4fcd-954c-14e94475c061",
   "metadata": {},
   "outputs": [],
   "source": []
  }
 ],
 "metadata": {
  "kernelspec": {
   "display_name": "Q (kdb+)",
   "language": "q",
   "name": "qpk"
  },
  "language_info": {
   "file_extension": ".q",
   "mimetype": "text/x-q",
   "name": "q",
   "version": "4.0"
  }
 },
 "nbformat": 4,
 "nbformat_minor": 5
}
