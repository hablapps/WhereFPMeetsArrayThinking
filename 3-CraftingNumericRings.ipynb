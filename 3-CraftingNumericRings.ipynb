{
 "cells": [
  {
   "cell_type": "markdown",
   "id": "6add9c8d-cb2a-4856-87a1-1f3df7b0a370",
   "metadata": {},
   "source": [
    "# 💍 Crafting Numeric Rings"
   ]
  },
  {
   "cell_type": "markdown",
   "id": "9f9f217e-b088-4bfa-957b-7752be2b6065",
   "metadata": {},
   "source": [
    "Let's forge some rings!"
   ]
  },
  {
   "cell_type": "markdown",
   "id": "f8da03be-5333-4068-a8bd-e5efeb56835b",
   "metadata": {},
   "source": [
    "## Is an item of?"
   ]
  },
  {
   "cell_type": "markdown",
   "id": "5a90a7fd-abfd-4b70-88cb-b64c386b751d",
   "metadata": {},
   "source": [
    "We need to check if our row or column belongs to those where a 1 must be placed. The operator [`in`](https://code.kx.com/q/ref/in/) seems appropiate for this task."
   ]
  },
  {
   "cell_type": "code",
   "execution_count": 7,
   "id": "d6081644-f85d-40a7-bf7d-94ddfc042414",
   "metadata": {},
   "outputs": [
    {
     "data": {
      "text/plain": [
       "0b\n"
      ]
     },
     "execution_count": 7,
     "metadata": {},
     "output_type": "execute_result"
    },
    {
     "data": {
      "text/plain": [
       "1b\n"
      ]
     },
     "execution_count": 7,
     "metadata": {},
     "output_type": "execute_result"
    }
   ],
   "source": [
    "1 in 0,4\n",
    "4 in 0,4"
   ]
  },
  {
   "cell_type": "markdown",
   "id": "3ae207ff-469a-4275-ad18-581d7c707a63",
   "metadata": {},
   "source": [
    "You've probably guessed that the `b` character accompanying our outputs comes from \"boolean\". As obvious, `0b` and `1b` represent _false_ and _true_, respectively.\n",
    "\n",
    "<div class=\"alert alert-info\">\n",
    "What do you think would happen when we supply a vector of values as the left argument?\n",
    "</div>"
   ]
  },
  {
   "cell_type": "code",
   "execution_count": 8,
   "id": "1967eb7e-2c0e-4b59-b088-0f5ef0fa37c7",
   "metadata": {},
   "outputs": [
    {
     "data": {
      "text/plain": [
       "0001b\n"
      ]
     },
     "execution_count": 8,
     "metadata": {},
     "output_type": "execute_result"
    }
   ],
   "source": [
    "1 2 3 4 in 0,4"
   ]
  },
  {
   "cell_type": "markdown",
   "id": "84082aa5-9a16-4e26-80fc-d7c67d7baa15",
   "metadata": {},
   "source": [
    "We get a vector of booleans. As usual, we have a special syntax to produce a literal vector of booleans, where the `0`s and `1`s are put together, ending with a `b` character."
   ]
  },
  {
   "cell_type": "code",
   "execution_count": 9,
   "id": "e6b9d206-21ae-4bf7-b11d-a837483d0828",
   "metadata": {},
   "outputs": [
    {
     "data": {
      "text/plain": [
       "0001b\n"
      ]
     },
     "execution_count": 9,
     "metadata": {},
     "output_type": "execute_result"
    }
   ],
   "source": [
    "0001b"
   ]
  },
  {
   "cell_type": "markdown",
   "id": "e55e4734-b066-4950-a861-378787f099c5",
   "metadata": {},
   "source": [
    "## A Cartesian Product of Positions"
   ]
  },
  {
   "cell_type": "markdown",
   "id": "7baa1bba-bd6d-4f0c-936f-67d7ca458681",
   "metadata": {},
   "source": [
    "The next step involves generating all possible positions for our matrix. We could do so by means of the [`cross`](https://code.kx.com/q/ref/cross/) or _outer_ product."
   ]
  },
  {
   "cell_type": "code",
   "execution_count": 10,
   "id": "effd26e1-e006-4666-8b68-876046a5fe38",
   "metadata": {},
   "outputs": [
    {
     "data": {
      "text/plain": [
       "0 0\n",
       "0 1\n",
       "0 2\n",
       "0 3\n",
       "1 0\n",
       "1 1\n",
       "1 2\n",
       "1 3\n",
       "2 0\n",
       "2 1\n",
       "2 2\n",
       "2 3\n",
       "3 0\n",
       "3 1\n",
       "3 2\n",
       "3 3\n"
      ]
     },
     "execution_count": 10,
     "metadata": {},
     "output_type": "execute_result"
    }
   ],
   "source": [
    "n cross n:til 4"
   ]
  },
  {
   "cell_type": "markdown",
   "id": "04d65aac-185b-4c8a-8443-43692b206e50",
   "metadata": {},
   "source": [
    "Since we know that `in` is compatible with higher-dimensional structures, we can simply supply this matrix to it."
   ]
  },
  {
   "cell_type": "code",
   "execution_count": 12,
   "id": "c17f06f9-306b-4098-a4ac-9d71621e4446",
   "metadata": {},
   "outputs": [
    {
     "data": {
      "text/plain": [
       "11b\n",
       "10b\n",
       "10b\n",
       "10b\n",
       "11b\n",
       "01b\n",
       "00b\n",
       "00b\n",
       "00b\n",
       "01b\n",
       "01b\n",
       "00b\n",
       "00b\n",
       "00b\n",
       "01b\n",
       "01b\n",
       "00b\n",
       "00b\n",
       "00b\n",
       "01b\n",
       "11b\n",
       "10b\n",
       "..\n"
      ]
     },
     "execution_count": 12,
     "metadata": {},
     "output_type": "execute_result"
    }
   ],
   "source": [
    "(n cross n:til 5)in 0,4"
   ]
  },
  {
   "cell_type": "markdown",
   "id": "2e255fcf-4ce7-4408-aa01-16443cdf41c1",
   "metadata": {},
   "source": [
    "## `Any` Way You Want It?"
   ]
  },
  {
   "cell_type": "markdown",
   "id": "3bff5e9b-9dcf-4336-95ac-25eeb6016d59",
   "metadata": {},
   "source": [
    "Currently, we have a matrix of booleans where each row indicates whether the components of the position are in the first or last row/column. Now, we need to identify, for [`each`](https://code.kx.com/q/wp/iterators/#each-each-parallel) row, if [`any`](https://code.kx.com/q/ref/all-any/) element in it is true."
   ]
  },
  {
   "cell_type": "code",
   "execution_count": 13,
   "id": "19b9e4ff-405e-4994-84c5-6b655127ee00",
   "metadata": {},
   "outputs": [
    {
     "data": {
      "text/plain": [
       "1111110001100011000111111b\n"
      ]
     },
     "execution_count": 13,
     "metadata": {},
     "output_type": "execute_result"
    }
   ],
   "source": [
    "any each(n cross n:til 5)in 0,4"
   ]
  },
  {
   "cell_type": "markdown",
   "id": "a4283aac-7ab7-4a8a-8971-f52574086a7d",
   "metadata": {},
   "source": [
    "_Each_ is yet another iterator, like `over` (`/`). It takes a monadic function and applies it to each element of the list on the right."
   ]
  },
  {
   "cell_type": "markdown",
   "id": "f8d84959-3944-4b82-a033-e8e5d312f271",
   "metadata": {},
   "source": [
    "<div class=\"alert alert-info\">\n",
    "Is 'each' reminiscent of any pattern from FP that you are familiar with?\n",
    "</div>"
   ]
  },
  {
   "cell_type": "markdown",
   "id": "03003013-0fc8-45a5-92ca-9f124b01cacb",
   "metadata": {},
   "source": [
    "## Shape it up!"
   ]
  },
  {
   "cell_type": "markdown",
   "id": "9c2d23a2-474c-4fc6-91c3-661658e21d0e",
   "metadata": {},
   "source": [
    "I know it seems like we're quite far from getting a matrix, but we're almost there! In fact, we just need to [`take`](https://code.kx.com/q/ref/take/) (`#`) the previous list to a different shape."
   ]
  },
  {
   "cell_type": "code",
   "execution_count": 14,
   "id": "28a59b77-52d9-4cbf-b115-bb069a092ba4",
   "metadata": {},
   "outputs": [
    {
     "data": {
      "text/plain": [
       "11111b\n",
       "10001b\n",
       "10001b\n",
       "10001b\n",
       "11111b\n"
      ]
     },
     "execution_count": 14,
     "metadata": {},
     "output_type": "execute_result"
    }
   ],
   "source": [
    "5 5#any each(n cross n:til 5)in 0,4"
   ]
  },
  {
   "cell_type": "markdown",
   "id": "3c38d741-f493-42a9-b57f-683df1ced4f6",
   "metadata": {},
   "source": [
    "We could even _take_ twice to avoid repeating the width."
   ]
  },
  {
   "cell_type": "code",
   "execution_count": 16,
   "id": "a60bddb7-6efd-44fa-9771-640f080a789c",
   "metadata": {},
   "outputs": [
    {
     "data": {
      "text/plain": [
       "11111b\n",
       "10001b\n",
       "10001b\n",
       "10001b\n",
       "11111b\n"
      ]
     },
     "execution_count": 16,
     "metadata": {},
     "output_type": "execute_result"
    }
   ],
   "source": [
    "(2#5)#any each(n cross n:til 5)in 0,4"
   ]
  },
  {
   "cell_type": "markdown",
   "id": "61678eca-0d43-4ecf-bd61-4e6061ac6f45",
   "metadata": {},
   "source": [
    "Our solution is currently hardcoded for a ring of width 5. Let's generalize it by adapting the previous expression into a function."
   ]
  },
  {
   "cell_type": "code",
   "execution_count": 17,
   "id": "50fc2699-681c-4bb1-832d-40c491c1987b",
   "metadata": {},
   "outputs": [
    {
     "data": {
      "text/plain": [
       "11111b\n",
       "10001b\n",
       "10001b\n",
       "10001b\n",
       "11111b\n"
      ]
     },
     "execution_count": 17,
     "metadata": {},
     "output_type": "execute_result"
    },
    {
     "data": {
      "text/plain": [
       "111111111111b\n",
       "100000000001b\n",
       "100000000001b\n",
       "100000000001b\n",
       "100000000001b\n",
       "100000000001b\n",
       "100000000001b\n",
       "100000000001b\n",
       "100000000001b\n",
       "100000000001b\n",
       "100000000001b\n",
       "111111111111b\n"
      ]
     },
     "execution_count": 17,
     "metadata": {},
     "output_type": "execute_result"
    }
   ],
   "source": [
    "ring:{(2#x)#any each(n cross n:til x)in 0,x-1}\n",
    "ring[5]\n",
    "ring[12]"
   ]
  },
  {
   "cell_type": "code",
   "execution_count": null,
   "id": "46ffd682-afa8-4bb4-a887-85f50ab57bf2",
   "metadata": {},
   "outputs": [],
   "source": []
  }
 ],
 "metadata": {
  "kernelspec": {
   "display_name": "Q (kdb+)",
   "language": "q",
   "name": "qpk"
  },
  "language_info": {
   "file_extension": ".q",
   "mimetype": "text/x-q",
   "name": "q",
   "version": "4.1.0"
  }
 },
 "nbformat": 4,
 "nbformat_minor": 5
}
