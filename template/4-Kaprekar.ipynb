{
 "cells": [
  {
   "cell_type": "markdown",
   "id": "e37e9caf-18e7-46e6-bb9b-82f4e79f7e9c",
   "metadata": {},
   "source": [
    "# 💯 Kaprekar Numbers"
   ]
  },
  {
   "cell_type": "markdown",
   "id": "56caf912-bf17-4f8d-9652-42d9530f7b8f",
   "metadata": {},
   "source": [
    "Let's calculate the number of iterations until we reach 6174."
   ]
  },
  {
   "cell_type": "markdown",
   "id": "21c91608-7142-4781-b845-9f5f89a2cb13",
   "metadata": {},
   "source": [
    "## On Strings and Padding"
   ]
  },
  {
   "cell_type": "markdown",
   "id": "08a1dd6d-ecba-4603-9bd1-0006590e1dac",
   "metadata": {},
   "source": [
    "Let's assume we start from 3087."
   ]
  },
  {
   "cell_type": "code",
   "execution_count": null,
   "id": "c6a022da-a8fb-4fcf-88e5-6bb5db5c4312",
   "metadata": {},
   "outputs": [],
   "source": []
  },
  {
   "cell_type": "markdown",
   "id": "2bcda803-9ccd-4617-a43a-1816631f8ad8",
   "metadata": {},
   "source": [
    "The first step is to convert this number into a string so we can split its digits. Fortunately, we have [`string`](https://code.kx.com/q/ref/string/) for this task."
   ]
  },
  {
   "cell_type": "code",
   "execution_count": null,
   "id": "83ef2be7-8682-4eb1-9e06-42d84d055524",
   "metadata": {},
   "outputs": [],
   "source": []
  },
  {
   "cell_type": "markdown",
   "id": "f7b0d43b-860e-4258-9698-cc38c3cabb92",
   "metadata": {},
   "source": [
    "As you can see, it casts the input into a character array. Unfortunately, if we pass a number below 1000, the output doesn't have 4 digits."
   ]
  },
  {
   "cell_type": "code",
   "execution_count": null,
   "id": "5ca1347c-3c26-44e4-80cf-dff46a42dc94",
   "metadata": {},
   "outputs": [],
   "source": []
  },
  {
   "cell_type": "markdown",
   "id": "b6152958-99f4-4623-9969-4467c57339ce",
   "metadata": {},
   "source": [
    "We need to add zeroes on the left. [_Pad_](https://code.kx.com/q/ref/pad/) (`$`) can help us with this."
   ]
  },
  {
   "cell_type": "code",
   "execution_count": null,
   "id": "2390f8c7-3893-403e-aa9a-b427f8cada4f",
   "metadata": {},
   "outputs": [],
   "source": []
  },
  {
   "cell_type": "markdown",
   "id": "07879cd2-5797-48b7-9f67-5913005b4092",
   "metadata": {},
   "source": [
    "By supplying a negative number, we add whitespace on the left until we reach 4 characters. However, we need to [`fill`](https://code.kx.com/q/ref/fill/) whitespaces with zeroes."
   ]
  },
  {
   "cell_type": "code",
   "execution_count": null,
   "id": "1a11774c-3b06-42ae-b30f-11c39c6f902c",
   "metadata": {},
   "outputs": [],
   "source": []
  },
  {
   "cell_type": "markdown",
   "id": "31b994e5-35aa-453c-8f69-2368729e95ca",
   "metadata": {},
   "source": [
    "Now we can proceed to the next step."
   ]
  },
  {
   "cell_type": "markdown",
   "id": "4a2110f6-178e-43a9-85ae-7b0b5faca6a7",
   "metadata": {},
   "source": [
    "## Sorting in Both Directions"
   ]
  },
  {
   "cell_type": "markdown",
   "id": "012c968c-85ab-4f67-be04-5780164cfb09",
   "metadata": {},
   "source": [
    "Once we have defined our character vector, we can sort its elements in ascending ([`asc`](https://code.kx.com/q/ref/asc/)) or descending ([`desc`](https://code.kx.com/q/ref/desc/)) order."
   ]
  },
  {
   "cell_type": "code",
   "execution_count": null,
   "id": "c50eee0a-dadf-4995-bc96-2ce9ea801d39",
   "metadata": {},
   "outputs": [],
   "source": []
  },
  {
   "cell_type": "code",
   "execution_count": null,
   "id": "296433ab-b848-4fff-8008-6f638f860100",
   "metadata": {},
   "outputs": [],
   "source": []
  },
  {
   "cell_type": "markdown",
   "id": "c653517b-54be-4b45-bef6-821ee78f1cc1",
   "metadata": {},
   "source": [
    "<div class=\"alert alert-warning\">\n",
    "As you can see, we get a `s# prepended to our output after sorting with asc. This is an example of an attribute, which represents metadata that the q interpreter can exploit to optimize certain operations.\n",
    "</div>"
   ]
  },
  {
   "cell_type": "markdown",
   "id": "9c419888-0b70-4431-a2c4-874322532a9f",
   "metadata": {},
   "source": [
    "At this point, we could simply put the previous expressions together to advance in our solution."
   ]
  },
  {
   "cell_type": "code",
   "execution_count": null,
   "id": "e98f0775-9afa-4f05-95ac-3d24fa8c85d1",
   "metadata": {},
   "outputs": [],
   "source": []
  },
  {
   "cell_type": "markdown",
   "id": "e1aab0dd-dc88-4700-b54b-0dca59df92e5",
   "metadata": {},
   "source": [
    "But this approach is ugly and hard to maintain. We can do better!"
   ]
  },
  {
   "cell_type": "markdown",
   "id": "77c36c4e-ec73-460a-a5d1-9e7658f2d225",
   "metadata": {},
   "source": [
    "## A Nicer Pattern"
   ]
  },
  {
   "cell_type": "markdown",
   "id": "3050c760-2e05-48dd-9c17-75713b34b2d4",
   "metadata": {},
   "source": [
    "We need to apply our `desc` and `asc` functions to the same argument, but we want to avoid repetition. What if we place both functions right before the argument?"
   ]
  },
  {
   "cell_type": "code",
   "execution_count": null,
   "id": "923dc396-da40-43df-94bb-00801c06aa31",
   "metadata": {},
   "outputs": [],
   "source": []
  },
  {
   "cell_type": "markdown",
   "id": "1f365475-94cc-48db-9b81-2679cb72f441",
   "metadata": {},
   "source": [
    "Unfortunately, it doesn't work as expected. We need to add some plumbing to implement this idea."
   ]
  },
  {
   "cell_type": "code",
   "execution_count": null,
   "id": "854283c3-be04-45c0-b9ab-f709e57400d7",
   "metadata": {},
   "outputs": [],
   "source": []
  },
  {
   "cell_type": "markdown",
   "id": "e733906b-29f8-4cda-a894-33472c6a81c7",
   "metadata": {},
   "source": [
    "In particular, we exploit the [_Each Left_](https://code.kx.com/q/ref/maps/#each-left-and-each-right) (`\\:`) operator in combination with [_Apply At_](https://code.kx.com/q/ref/apply/) (`@`). In essence we apply each function from the left to the fixed argument on the right."
   ]
  },
  {
   "cell_type": "markdown",
   "id": "3506753e-219c-4ac0-9836-4e3f176549bc",
   "metadata": {},
   "source": [
    "<div class=\"alert alert-success\">\n",
    "Q provides a wide range of iterators (higher-order functions to process collections) that allow the programmer to map and scan with various flavours.\n",
    "</div>"
   ]
  },
  {
   "cell_type": "markdown",
   "id": "7703200d-987b-4cb6-863a-0c034799085e",
   "metadata": {},
   "source": [
    "## Back to Numeric"
   ]
  },
  {
   "cell_type": "markdown",
   "id": "5c0a2893-caaa-4a3a-96d7-fabc78aaa32d",
   "metadata": {},
   "source": [
    "Once we have our strings sorted, it's time to convert them back into numbers so we can subtract them. We can use [_Tok_](https://code.kx.com/q/ref/tok/) (`$`) for this task."
   ]
  },
  {
   "cell_type": "code",
   "execution_count": null,
   "id": "5673de1f-f361-43b5-bf13-a23a4137e77e",
   "metadata": {},
   "outputs": [],
   "source": []
  },
  {
   "cell_type": "markdown",
   "id": "38bffadb-e776-48db-9e20-fcbd353ff638",
   "metadata": {},
   "source": [
    "By using a capital `\"J\"` we are indicating that we want to parse the text as a long, and that's exactly what we get!\n",
    "\n",
    "Now, we need to perform the subtraction. However, we don't have two separate arguments that we can directly feed into the function; they are contained in a list. We can use this idiom to adapt to the situation."
   ]
  },
  {
   "cell_type": "code",
   "execution_count": null,
   "id": "9045828d-707b-4048-a4e9-f91507e20250",
   "metadata": {},
   "outputs": [],
   "source": []
  },
  {
   "cell_type": "markdown",
   "id": "8c434a32-dd2b-4523-9d8f-01fe58bfc257",
   "metadata": {},
   "source": [
    "<div class=\"alert alert-success\">\n",
    "If you are familiar with Scala, this trick is somewhat similar to the `:_*` adaptation that we apply to the arguments of a variadic function.\n",
    "</div>"
   ]
  },
  {
   "cell_type": "markdown",
   "id": "9fdd3d3b-b86c-42b6-8750-59e8518f1a7b",
   "metadata": {},
   "source": [
    "## Converging to a Solution"
   ]
  },
  {
   "cell_type": "markdown",
   "id": "8c732e88-e38c-485b-b1cd-b9b680746a2c",
   "metadata": {},
   "source": [
    "Okay, so we have the code that we need to execute until we reach a certain condition. Now, should we place it into a loop?\n",
    "\n",
    "Not necessarily! We can exploit the fact that the algorithm converges when it reaches `6174`. The [_Converge_](https://code.kx.com/q/ref/accumulators/#converge) iterator can handle the looping for us."
   ]
  },
  {
   "cell_type": "code",
   "execution_count": null,
   "id": "605eda5d-590f-46c0-b6b8-6f6e9132a7ea",
   "metadata": {},
   "outputs": [],
   "source": []
  },
  {
   "cell_type": "markdown",
   "id": "ca935143-90ca-4ac9-92c3-20391fe7f3f1",
   "metadata": {},
   "source": [
    "Finally, we just need to `count` the number of elements produced by the previous step."
   ]
  },
  {
   "cell_type": "code",
   "execution_count": null,
   "id": "5ef12680-cb5e-44cb-b72e-c420ddce8d3b",
   "metadata": {},
   "outputs": [],
   "source": []
  },
  {
   "cell_type": "code",
   "execution_count": null,
   "id": "f5043dfe-faf7-46aa-9680-55b74be503c6",
   "metadata": {},
   "outputs": [],
   "source": [
    "A small tweak and we are there!"
   ]
  },
  {
   "cell_type": "code",
   "execution_count": null,
   "id": "9d71c1dd-da18-43a8-9760-e53d84dcf69e",
   "metadata": {},
   "outputs": [],
   "source": []
  },
  {
   "cell_type": "markdown",
   "id": "cea426be-196b-42b2-87f7-76300cc36633",
   "metadata": {},
   "source": [
    "As usual, we generalise the expression into a function and we're done!"
   ]
  },
  {
   "cell_type": "code",
   "execution_count": null,
   "id": "5b403308-698c-4a15-beb1-52d8e32676a3",
   "metadata": {},
   "outputs": [],
   "source": []
  }
 ],
 "metadata": {
  "kernelspec": {
   "display_name": "Q (kdb+)",
   "language": "q",
   "name": "qpk"
  },
  "language_info": {
   "file_extension": ".q",
   "mimetype": "text/x-q",
   "name": "q",
   "version": "4.1.0"
  }
 },
 "nbformat": 4,
 "nbformat_minor": 5
}
