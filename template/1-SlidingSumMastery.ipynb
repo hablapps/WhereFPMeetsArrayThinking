{
 "cells": [
  {
   "cell_type": "markdown",
   "id": "459404f5-dc8f-429a-a7fb-916a5fc8dac9",
   "metadata": {},
   "source": [
    "# 🌳 Sliding Sum Mastery"
   ]
  },
  {
   "cell_type": "markdown",
   "id": "caddea2b-8360-4807-8706-cb2242c9209a",
   "metadata": {},
   "source": [
    "Welcome to the Q world!"
   ]
  },
  {
   "cell_type": "markdown",
   "id": "eceb1dff-6633-44f4-84c2-4c55c50a5f9f",
   "metadata": {},
   "source": [
    "## Hello Array!"
   ]
  },
  {
   "cell_type": "markdown",
   "id": "bd504e86-5c5b-4dae-9663-a24bd50c1d77",
   "metadata": {},
   "source": [
    "Say hello to your first array!"
   ]
  },
  {
   "cell_type": "code",
   "execution_count": null,
   "id": "5cca7392-ab73-4939-90ef-b7291386c1e7",
   "metadata": {},
   "outputs": [],
   "source": []
  },
  {
   "cell_type": "markdown",
   "id": "291586b8-b164-48cc-8fde-4c5ea6c5e223",
   "metadata": {},
   "source": [
    "An array is simply a list of elements. If all elements have the same type, like the numbers listed above, we can refer to it as a _vector_. Q uses special notation for a vector of numbers. Want to explore it?"
   ]
  },
  {
   "cell_type": "code",
   "execution_count": null,
   "id": "a9c735d4-01c5-4340-a095-010920446941",
   "metadata": {},
   "outputs": [],
   "source": []
  },
  {
   "cell_type": "markdown",
   "id": "2fc8741f-e0ad-49af-aba4-744c68cdac3c",
   "metadata": {},
   "source": [
    "We can assign a name to this list, creating a variable."
   ]
  },
  {
   "cell_type": "code",
   "execution_count": null,
   "id": "8839ba83-e8f1-40ad-8b60-4853a455484b",
   "metadata": {},
   "outputs": [],
   "source": []
  },
  {
   "cell_type": "markdown",
   "id": "807f5913-66ab-4955-b615-36d9647f60f7",
   "metadata": {},
   "source": [
    "However, in q, it's customary to use short names instead."
   ]
  },
  {
   "cell_type": "code",
   "execution_count": null,
   "id": "001bb5e9-d851-4b3c-84fe-337afe59f9b9",
   "metadata": {},
   "outputs": [],
   "source": []
  },
  {
   "cell_type": "markdown",
   "id": "ff5aca84-5b2d-444e-bd7a-ee17a3d84869",
   "metadata": {},
   "source": [
    "## Hello Lambda!"
   ]
  },
  {
   "cell_type": "markdown",
   "id": "a225c3e3-55c8-4bc2-882d-b36f0e10af54",
   "metadata": {},
   "source": [
    "Once we understand how to create variables, we can move on to our mission: implementing a function with the desired logic. So, how do we create a function?"
   ]
  },
  {
   "cell_type": "code",
   "execution_count": null,
   "id": "96fbd73e-c270-4edd-b40e-ef04da5df847",
   "metadata": {},
   "outputs": [],
   "source": []
  },
  {
   "cell_type": "markdown",
   "id": "12c7e9a7-ae82-41e4-ae99-e415ea680489",
   "metadata": {},
   "source": [
    "We've just created one of the simplest functions: identity. In fact, we can even assign a name to this function."
   ]
  },
  {
   "cell_type": "code",
   "execution_count": null,
   "id": "779225a9-75d6-4cdd-93ba-09596bf493d5",
   "metadata": {},
   "outputs": [],
   "source": []
  },
  {
   "cell_type": "markdown",
   "id": "99f62c39-6ee7-47a1-907f-9071c088d362",
   "metadata": {},
   "source": [
    "Once defined, we should be able to pass an argument to the new function."
   ]
  },
  {
   "cell_type": "code",
   "execution_count": null,
   "id": "cf783555-3fde-4017-8ff3-186047950696",
   "metadata": {},
   "outputs": [],
   "source": []
  },
  {
   "cell_type": "markdown",
   "id": "42213531-72d4-4e4b-9e77-22d7195a1152",
   "metadata": {},
   "source": [
    "What about a function with two arguments, like the one we need to implement?"
   ]
  },
  {
   "cell_type": "code",
   "execution_count": null,
   "id": "32a776af-a3ff-4cc6-8e1f-0b804a445f6a",
   "metadata": {},
   "outputs": [],
   "source": []
  },
  {
   "cell_type": "markdown",
   "id": "04a1c2b5-630b-4a73-a561-0177a1b37f60",
   "metadata": {},
   "source": [
    "Q values concise code. By using `x`, `y`, and `z` as parameter names, we can eliminate their definitions."
   ]
  },
  {
   "cell_type": "code",
   "execution_count": null,
   "id": "9d66d50d-456c-416c-8933-ca016cc8c0c5",
   "metadata": {},
   "outputs": [],
   "source": []
  },
  {
   "cell_type": "markdown",
   "id": "ff57bb68-d78c-44ae-b268-d70ed8500977",
   "metadata": {},
   "source": [
    "Back to our objective of implementing a solution to the _Sliding Sum Mastery_ problem! Let's create a template to build upon. We'll assign names later on to keep the definition in just one line and simplify the prototyping process."
   ]
  },
  {
   "cell_type": "code",
   "execution_count": null,
   "id": "b02151e8-95c5-4305-971b-a093ba28a5d4",
   "metadata": {},
   "outputs": [],
   "source": []
  },
  {
   "cell_type": "markdown",
   "id": "04c5e9d1-2405-409d-9c7b-b0be28cbff0a",
   "metadata": {},
   "source": [
    "It simply puts together both parameters into a list."
   ]
  },
  {
   "cell_type": "markdown",
   "id": "d2945b99-4ca6-477d-b78c-0e8c492ab8ba",
   "metadata": {},
   "source": [
    "How do we obtain the list of adjacent elements, taking the window size into account? We can use the moving sum for this task. Before that, let's introduce a \"plain\" sum."
   ]
  },
  {
   "cell_type": "markdown",
   "id": "386d05d6-b29d-4aee-8734-2d6fd48d4d8e",
   "metadata": {},
   "source": [
    "## (Moving) Sums & Other Primitives"
   ]
  },
  {
   "cell_type": "markdown",
   "id": "0760f1b1-c8d8-4282-a58d-41890071b1f4",
   "metadata": {},
   "source": [
    "The primitive `til` generates a list of numbers from zero up to the specified value."
   ]
  },
  {
   "cell_type": "code",
   "execution_count": null,
   "id": "0f78080e-8a8d-434d-be38-d96e95bf20c4",
   "metadata": {},
   "outputs": [],
   "source": []
  },
  {
   "cell_type": "markdown",
   "id": "671c0e11-3b1f-4469-bc01-28689452a5d3",
   "metadata": {},
   "source": [
    "We can `sum` all the numbers in the vector above."
   ]
  },
  {
   "cell_type": "code",
   "execution_count": null,
   "id": "eafee370-e5ef-41c3-97f5-ca1e595d0efd",
   "metadata": {},
   "outputs": [],
   "source": []
  },
  {
   "cell_type": "markdown",
   "id": "50ba4f2c-12fb-4782-9761-b2eaf14d5d78",
   "metadata": {},
   "source": [
    "<div class=\"alert alert-info\">\n",
    "Is sum similar to any pattern from FP that you are familiar with?\n",
    "</div>"
   ]
  },
  {
   "cell_type": "markdown",
   "id": "e58ec7de-99bb-4fc5-afa4-16e4a1a39642",
   "metadata": {},
   "source": [
    "Now, with `ns` and `ws` defined..."
   ]
  },
  {
   "cell_type": "code",
   "execution_count": null,
   "id": "27befe47-6e23-417f-b90d-89709719a94f",
   "metadata": {},
   "outputs": [],
   "source": []
  },
  {
   "cell_type": "markdown",
   "id": "479fe8c0-b4f9-442c-94f7-1e636b5f4db8",
   "metadata": {},
   "source": [
    "We would like to proceed with the next step from our conceptual solution and perform something like...\n",
    "```q\n",
    "(sum 2 4 1;\n",
    "  sum 4 1 5;\n",
    "  sum 1 5 6;\n",
    "  sum 5 6 3;\n",
    "  sum 6 3 8;\n",
    "  sum 3 8 2);\n",
    "```\n",
    "We can get this behaviour by means of `msum`."
   ]
  },
  {
   "cell_type": "code",
   "execution_count": null,
   "id": "376fc332-7005-4c13-9027-899b9c8aa9ca",
   "metadata": {},
   "outputs": [],
   "source": []
  },
  {
   "cell_type": "markdown",
   "id": "6d841b37-5700-4c7c-a123-5f50457451fe",
   "metadata": {},
   "source": [
    "<div class=\"alert alert-warning\">\n",
    "Note that this isn't the exact behavior shown above, as we obtain 2 and 6 at the very first positions, which are effectively sum 0N 0N 2 and sum 0N 2 4, respectively, where 0N represents a null number. This won't be an issue as long as we only consider positive values. Otherwise we could simply discard them by means of `_`: {(y-1)_y msum x}[xs;ws].\n",
    "</div>"
   ]
  },
  {
   "cell_type": "markdown",
   "id": "8aadcc36-76b7-464e-bfd8-549a28e541cf",
   "metadata": {},
   "source": [
    "Our next task is to obtain the maximum value among those calculated in the previous step."
   ]
  },
  {
   "cell_type": "code",
   "execution_count": null,
   "id": "86475341-d69b-497c-96f9-e5e1f015b948",
   "metadata": {},
   "outputs": [],
   "source": []
  },
  {
   "cell_type": "markdown",
   "id": "7eb1ff47-bac7-43a6-ae8e-69104958f4ce",
   "metadata": {},
   "source": [
    "There we are!"
   ]
  },
  {
   "cell_type": "markdown",
   "id": "63d018dd-5097-42cf-b8bb-fbf52cfc4615",
   "metadata": {},
   "source": [
    "The pattern underlying both `sum` and `max`, where we _fold_ a data structure into a single value, is known as _over_ (`/`). Indeed, `sum` could be replaced by `(+/)` and `max` by `(|/)`."
   ]
  },
  {
   "cell_type": "code",
   "execution_count": null,
   "id": "b0fc13ab-6007-4b97-b565-71cad5626a5d",
   "metadata": {},
   "outputs": [],
   "source": []
  },
  {
   "cell_type": "markdown",
   "id": "7b854c82-2e0c-4112-a4c7-6bfcabf74036",
   "metadata": {},
   "source": [
    "<div class=\"alert alert-info\">\n",
    "Can you think of a way to reduce all elements by multiplication?\n",
    "</div>"
   ]
  },
  {
   "cell_type": "code",
   "execution_count": null,
   "id": "cdbbc23e-7053-4fb2-912c-dd3e3a99eb05",
   "metadata": {},
   "outputs": [],
   "source": []
  },
  {
   "cell_type": "markdown",
   "id": "9e8d38e9-b391-46b9-a170-95abd6afcf3d",
   "metadata": {},
   "source": [
    "<div class=\"alert alert-success\">\n",
    "Try to utilize q primitives as much as possible since they are optimized for maximum performance.\n",
    "</div>"
   ]
  },
  {
   "cell_type": "code",
   "execution_count": null,
   "id": "be58c627-7b87-4f90-a7b7-14b520b578a6",
   "metadata": {},
   "outputs": [],
   "source": []
  },
  {
   "cell_type": "markdown",
   "id": "431a8dbb-7dc7-4d7d-bde7-680ff8d2e47b",
   "metadata": {},
   "source": [
    "## Finally, Our Solution"
   ]
  },
  {
   "cell_type": "markdown",
   "id": "2fae3c78-8b53-4e72-b11f-16a0d2f2189f",
   "metadata": {},
   "source": [
    "Finally, we just assign a name to our solution."
   ]
  },
  {
   "cell_type": "code",
   "execution_count": null,
   "id": "1c8d29a5-f372-4117-b471-bee692aecd54",
   "metadata": {},
   "outputs": [],
   "source": []
  }
 ],
 "metadata": {
  "kernelspec": {
   "display_name": "Q (kdb+)",
   "language": "q",
   "name": "qpk"
  },
  "language_info": {
   "file_extension": ".q",
   "mimetype": "text/x-q",
   "name": "q",
   "version": "4.1.0"
  }
 },
 "nbformat": 4,
 "nbformat_minor": 5
}
