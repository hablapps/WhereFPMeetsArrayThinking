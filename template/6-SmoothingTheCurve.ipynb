{
 "cells": [
  {
   "cell_type": "markdown",
   "id": "b879ce15",
   "metadata": {},
   "source": [
    "# Smoothing the curve 📈"
   ]
  },
  {
   "cell_type": "markdown",
   "id": "dbf3f79e",
   "metadata": {},
   "source": [
    "## From dictionaries to tables"
   ]
  },
  {
   "cell_type": "markdown",
   "id": "458d1829",
   "metadata": {},
   "source": [
    "Let's recap the concept of dictionary and how can we generate one:"
   ]
  },
  {
   "cell_type": "code",
   "execution_count": 1,
   "id": "8903ab46",
   "metadata": {},
   "outputs": [
    {
     "data": {
      "text/plain": [
       "a| 1\r\n",
       "b| 2\r\n"
      ]
     },
     "execution_count": 1,
     "metadata": {},
     "output_type": "execute_result"
    }
   ],
   "source": []
  },
  {
   "cell_type": "markdown",
   "id": "641bf0c1",
   "metadata": {},
   "source": [
    "When a dictionary contains lists of equal length, and the keys are symbols, we create a *column dictionary*."
   ]
  },
  {
   "cell_type": "code",
   "execution_count": null,
   "id": "6aed8f65",
   "metadata": {},
   "outputs": [],
   "source": []
  },
  {
   "cell_type": "markdown",
   "id": "f7254563",
   "metadata": {},
   "source": [
    "We can convert a column dictionary into a table by applying `flip`. This turns the dictionary into a table where keys become column names and values become the rows."
   ]
  },
  {
   "cell_type": "code",
   "execution_count": null,
   "id": "a7a4c3a4",
   "metadata": {},
   "outputs": [],
   "source": []
  },
  {
   "cell_type": "markdown",
   "id": "1fc3713d",
   "metadata": {},
   "source": [
    "<div class=\"alert alert-warning\">\n",
    "One of the keys of why kdb is so efficient is that kdb database is column oriented rather than row-oriented, as in traditional relational databases like SQL. This means data is stored by columns, not rows.\n",
    "</div>"
   ]
  },
  {
   "cell_type": "markdown",
   "id": "370ffffd",
   "metadata": {},
   "source": [
    "<div class=\"alert alert-success\">\n",
    "  In kdb+, tables are first-class citizens, meaning they reside in memory just like lists and other data structures. They form the core of kdb+, enabling efficient storage and querying of large datasets, especially in time-series analysis.\n",
    "</div>"
   ]
  },
  {
   "cell_type": "markdown",
   "id": "71d2076b",
   "metadata": {},
   "source": [
    "## Generating items"
   ]
  },
  {
   "cell_type": "markdown",
   "id": "d1d8a21e",
   "metadata": {},
   "source": [
    "Going back to our problem, we need to gen a price tabl that look like this:\n",
    "\n",
    "<img src=\"../pics/priceTable.JPG\" alt=\"Italian Trulli\">\n",
    "\n",
    "What do we need to gen one example of our price table?\n",
    "- Temporal column\n",
    "- Asset column\n",
    "- Price column\n",
    "\n"
   ]
  },
  {
   "cell_type": "markdown",
   "id": "114d9d95",
   "metadata": {},
   "source": [
    "To build the temporal column we have the built-in `minute` type, that simplifies working with time values, allowing you to perform operations directly on hours."
   ]
  },
  {
   "cell_type": "code",
   "execution_count": null,
   "id": "66757d4a",
   "metadata": {},
   "outputs": [],
   "source": []
  },
  {
   "cell_type": "markdown",
   "id": "007b4411",
   "metadata": {},
   "source": [
    "If you look closely you can realise that we need something more, we need to sort ascendelly the hours, so we are going to use `asc` keyword to handle that. And, then we store our list in `ts`"
   ]
  },
  {
   "cell_type": "code",
   "execution_count": null,
   "id": "7dd14390",
   "metadata": {},
   "outputs": [],
   "source": []
  },
  {
   "cell_type": "markdown",
   "id": "1d038a10",
   "metadata": {},
   "source": [
    "<div class=\"alert alert-warning\">\n",
    "Look a the `s#` at the beginning of the output. It means that, that list has the <strong>sorted</strong> atribbute, meaning the data is recognized by q as being in sorted order, which allows for faster lookups and optimizations during queries\n",
    "</div>"
   ]
  },
  {
   "cell_type": "markdown",
   "id": "77ae214c",
   "metadata": {},
   "source": [
    "Now, to generate our list of assets, we are going to use *symbols*. Symbols are atomic data types rather than lists of characters, unlike strings. This makes them more efficient for use in tables, as symbols store references to their unique value rather than the full string.\n",
    "\n",
    "So similarly, we can create a list of symbols for the assets and store it in `syms`"
   ]
  },
  {
   "cell_type": "code",
   "execution_count": null,
   "id": "bb31eb01",
   "metadata": {},
   "outputs": [],
   "source": []
  },
  {
   "cell_type": "markdown",
   "id": "cec16ae9",
   "metadata": {},
   "source": [
    "Finally, we are going to need to generate random data, lets use `roll` `?`, for example to roll a dice 10 times"
   ]
  },
  {
   "cell_type": "code",
   "execution_count": null,
   "id": "5e533ba9",
   "metadata": {},
   "outputs": [],
   "source": []
  },
  {
   "cell_type": "markdown",
   "id": "7255492e",
   "metadata": {},
   "source": [
    "Left number is the number of times and right number is the limit number, so let's first generate starting prices "
   ]
  },
  {
   "cell_type": "code",
   "execution_count": null,
   "id": "f9f280cb",
   "metadata": {},
   "outputs": [],
   "source": []
  },
  {
   "cell_type": "markdown",
   "id": "c80ae3e7",
   "metadata": {},
   "source": [
    "And then we generate randomly the price jumps between each instant of time. In order to sum the jumps to the starting points, we need to reshape the starting points, so both lists conform"
   ]
  },
  {
   "cell_type": "code",
   "execution_count": null,
   "id": "ab537ae4",
   "metadata": {},
   "outputs": [],
   "source": []
  },
  {
   "cell_type": "markdown",
   "id": "73db26e2",
   "metadata": {},
   "source": [
    "As last point, random data is generated based on a seed value, which controls the sequence of random numbers. By fixing the seed using `\\S`, we ensure that the same random output is reproducible across different runs."
   ]
  },
  {
   "cell_type": "code",
   "execution_count": null,
   "id": "6764fcc0",
   "metadata": {},
   "outputs": [],
   "source": []
  },
  {
   "cell_type": "markdown",
   "id": "33d8b584",
   "metadata": {},
   "source": [
    "Now, we have the ingredients (variables `ts`, `syms` and `p`) to create our column dictionary ..."
   ]
  },
  {
   "cell_type": "code",
   "execution_count": null,
   "id": "11489723",
   "metadata": {},
   "outputs": [],
   "source": []
  },
  {
   "cell_type": "markdown",
   "id": "59a1f619",
   "metadata": {},
   "source": [
    "... and our table will be ready just flipping the dictionary"
   ]
  },
  {
   "cell_type": "code",
   "execution_count": null,
   "id": "5fdd81ae",
   "metadata": {},
   "outputs": [],
   "source": []
  },
  {
   "cell_type": "markdown",
   "id": "98ea1853",
   "metadata": {},
   "source": [
    "Finally, there's another syntax to create a table"
   ]
  },
  {
   "cell_type": "code",
   "execution_count": null,
   "id": "e25ac51a",
   "metadata": {},
   "outputs": [],
   "source": []
  },
  {
   "cell_type": "markdown",
   "id": "d80ae3d0",
   "metadata": {},
   "source": [
    "### SQL in the Q world"
   ]
  },
  {
   "cell_type": "markdown",
   "id": "56356b6f",
   "metadata": {},
   "source": [
    "By now, we know what a table is and how to create one in q. Next, we'll explore what we can do with tables using qSQL, a set of SQL-like functions in q. These operations will feel familiar if you have SQL experience."
   ]
  },
  {
   "cell_type": "markdown",
   "id": "a482a234",
   "metadata": {},
   "source": [
    "<div class=\"alert alert-info\">\n",
    "Using your previous SQL knowledge, how would you select all columns from a table?\n",
    "<div>"
   ]
  },
  {
   "cell_type": "code",
   "execution_count": null,
   "id": "52139ee8",
   "metadata": {},
   "outputs": [],
   "source": []
  },
  {
   "cell_type": "markdown",
   "id": "c7bb0cc7",
   "metadata": {},
   "source": [
    "Filtering rows is just as simple."
   ]
  },
  {
   "cell_type": "code",
   "execution_count": null,
   "id": "5cba5d83",
   "metadata": {},
   "outputs": [],
   "source": []
  },
  {
   "cell_type": "markdown",
   "id": "00c30226",
   "metadata": {},
   "source": [
    "We can also create new columns or select specific ones. Here's an example of calculating the average price for `AAPL`"
   ]
  },
  {
   "cell_type": "code",
   "execution_count": null,
   "id": "6a23fc7f",
   "metadata": {},
   "outputs": [],
   "source": []
  },
  {
   "cell_type": "markdown",
   "id": "400137b9",
   "metadata": {},
   "source": [
    "In qSQL, `update` behaves like `select` but it creates or modifies columns preserving the original table. For example, let's add a `mean` column to our table."
   ]
  },
  {
   "cell_type": "code",
   "execution_count": 28,
   "id": "237e1b12",
   "metadata": {},
   "outputs": [
    {
     "data": {
      "text/plain": [
       "t     sym  price    mean    \r\n",
       "----------------------------\r\n",
       "09:00 AAPL 96.26213 83.36099\r\n",
       "09:00 AMZN 78.44964 83.36099\r\n",
       "09:00 GOOG 75.3932  83.36099\r\n",
       "09:01 AAPL 96.27035 83.36099\r\n",
       "09:01 AMZN 78.42006 83.36099\r\n",
       "09:01 GOOG 75.3768  83.36099\r\n",
       "09:02 AAPL 96.27845 83.36099\r\n",
       "09:02 AMZN 78.42342 83.36099\r\n",
       "09:02 GOOG 75.37487 83.36099\r\n"
      ]
     },
     "execution_count": 28,
     "metadata": {},
     "output_type": "execute_result"
    }
   ],
   "source": []
  },
  {
   "cell_type": "markdown",
   "id": "a9e8262b",
   "metadata": {},
   "source": [
    "Grouping and aggregating is also straightforward using the `by` clause, similar to SQL's `GROUP BY`."
   ]
  },
  {
   "cell_type": "code",
   "execution_count": null,
   "id": "3a832bab",
   "metadata": {},
   "outputs": [],
   "source": []
  },
  {
   "cell_type": "markdown",
   "id": "8f73ec75",
   "metadata": {},
   "source": [
    "Hmm, what's that vertical line we see in our grouped table?"
   ]
  },
  {
   "cell_type": "markdown",
   "id": "91b09ab4",
   "metadata": {},
   "source": [
    "This is a `keyed table`. It's actually a dictionary that maps key records to value records. We can access individual records using dictionary-like syntax."
   ]
  },
  {
   "cell_type": "code",
   "execution_count": null,
   "id": "98ce8910",
   "metadata": {},
   "outputs": [],
   "source": []
  },
  {
   "cell_type": "markdown",
   "id": "80b80a24",
   "metadata": {},
   "source": [
    "But if we want to do lookup on multiple elements, we can't ..."
   ]
  },
  {
   "cell_type": "code",
   "execution_count": null,
   "id": "862a0fff",
   "metadata": {},
   "outputs": [],
   "source": []
  },
  {
   "cell_type": "markdown",
   "id": "f35a015d",
   "metadata": {},
   "source": [
    "... because keys are tables just as values are, so we'll use a table of our own to index"
   ]
  },
  {
   "cell_type": "code",
   "execution_count": null,
   "id": "a0cc153d",
   "metadata": {},
   "outputs": [],
   "source": []
  },
  {
   "cell_type": "markdown",
   "id": "0ac9f626",
   "metadata": {},
   "source": [
    "## Getting previous element"
   ]
  },
  {
   "cell_type": "markdown",
   "id": "f2c28ff8",
   "metadata": {},
   "source": [
    "Focusing back in the problem, we aim to compute the average of the current price with the previous price for each symbol. To access the previous value in a sequence, we can use the `prev` keyword in q. Let's see how it works."
   ]
  },
  {
   "cell_type": "code",
   "execution_count": null,
   "id": "0f9d258d",
   "metadata": {},
   "outputs": [],
   "source": []
  },
  {
   "cell_type": "markdown",
   "id": "f9a2eba1",
   "metadata": {},
   "source": [
    "Notice that the first element is `0N` (null) since there's no preceding value. To avoid this, we can use the `fill` (`^`) keyword to fill the nulls with appropriate values"
   ]
  },
  {
   "cell_type": "code",
   "execution_count": null,
   "id": "344fe4f7",
   "metadata": {},
   "outputs": [],
   "source": []
  },
  {
   "cell_type": "markdown",
   "id": "09d0ebf8",
   "metadata": {},
   "source": [
    "Let's now integrate this logic with our table operations using qSQL syntax to compute the average for each symbol's prices."
   ]
  },
  {
   "cell_type": "code",
   "execution_count": null,
   "id": "cb26d067",
   "metadata": {},
   "outputs": [],
   "source": []
  },
  {
   "cell_type": "markdown",
   "id": "0a24df12",
   "metadata": {},
   "source": [
    "Finally, we just need to encapsulate it in a function"
   ]
  },
  {
   "cell_type": "code",
   "execution_count": null,
   "id": "26825525",
   "metadata": {},
   "outputs": [],
   "source": []
  },
  {
   "cell_type": "markdown",
   "id": "39fbfe7f",
   "metadata": {},
   "source": [
    "We got it!"
   ]
  },
  {
   "cell_type": "markdown",
   "id": "51da3791",
   "metadata": {},
   "source": [
    "## InterConnection"
   ]
  },
  {
   "cell_type": "markdown",
   "id": "67da7300",
   "metadata": {},
   "source": [
    "kdb+ supplies interprocess communication (IPC), which enables communication between different q processes. To demonstrate this, we need to start the server side of a q process.\n",
    "\n",
    "We can begin by listening for incoming requests by using `\\p` followed by a port number."
   ]
  },
  {
   "cell_type": "code",
   "execution_count": null,
   "id": "81231076",
   "metadata": {},
   "outputs": [],
   "source": []
  }
 ],
 "metadata": {
  "kernelspec": {
   "display_name": "Q (kdb+)",
   "language": "q",
   "name": "qpk"
  },
  "language_info": {
   "file_extension": ".q",
   "mimetype": "text/x-q",
   "name": "q",
   "version": "4.0"
  }
 },
 "nbformat": 4,
 "nbformat_minor": 5
}
