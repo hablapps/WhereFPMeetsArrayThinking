{
 "cells": [
  {
   "cell_type": "markdown",
   "id": "f8c2a0d4",
   "metadata": {},
   "source": [
    "# Client process"
   ]
  },
  {
   "cell_type": "markdown",
   "id": "63b9f3f8",
   "metadata": {},
   "source": [
    "We use `hopen` to get a connection handle. We pass it the communication handle as an argument, pointing at the recently opened port."
   ]
  },
  {
   "cell_type": "code",
   "execution_count": null,
   "id": "bc07f0d7",
   "metadata": {},
   "outputs": [],
   "source": []
  },
  {
   "cell_type": "markdown",
   "id": "e1c7e4ed",
   "metadata": {},
   "source": [
    "Once we get the handle, we can execute expressions at the server by passing them to it quoted:"
   ]
  },
  {
   "cell_type": "code",
   "execution_count": null,
   "id": "06b9d1fa",
   "metadata": {},
   "outputs": [],
   "source": []
  },
  {
   "cell_type": "markdown",
   "id": "47baf85b",
   "metadata": {},
   "source": [
    "For example, we can gather data that is in memory in that process"
   ]
  },
  {
   "cell_type": "code",
   "execution_count": null,
   "id": "0ef94932",
   "metadata": {},
   "outputs": [],
   "source": []
  },
  {
   "cell_type": "markdown",
   "id": "32ce3b64",
   "metadata": {},
   "source": [
    "Or we can ask the server to execute a function defined at the server with the data that we provide using the parse tree syntax"
   ]
  },
  {
   "cell_type": "code",
   "execution_count": null,
   "id": "f7c53615",
   "metadata": {},
   "outputs": [],
   "source": []
  },
  {
   "cell_type": "markdown",
   "id": "23cc4b23",
   "metadata": {},
   "source": [
    "As a final step, don't forget to close the connection!"
   ]
  },
  {
   "cell_type": "code",
   "execution_count": null,
   "id": "c43e05f3",
   "metadata": {},
   "outputs": [],
   "source": []
  },
  {
   "cell_type": "code",
   "execution_count": null,
   "id": "80ef9703-9692-4210-a21c-afdc4484e385",
   "metadata": {},
   "outputs": [],
   "source": []
  }
 ],
 "metadata": {
  "kernelspec": {
   "display_name": "Q (kdb+)",
   "language": "q",
   "name": "qpk"
  },
  "language_info": {
   "file_extension": ".q",
   "mimetype": "text/x-q",
   "name": "q",
   "version": "4.0"
  }
 },
 "nbformat": 4,
 "nbformat_minor": 5
}
