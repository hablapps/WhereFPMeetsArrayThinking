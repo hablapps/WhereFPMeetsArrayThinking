{
 "cells": [
  {
   "cell_type": "markdown",
   "id": "f8c2a0d4",
   "metadata": {},
   "source": [
    "# Client process"
   ]
  },
  {
   "cell_type": "markdown",
   "id": "63b9f3f8",
   "metadata": {},
   "source": [
    "We use `hopen` to get a connection handle. We pass it the communication handle as an argument, pointing at the recently opened port."
   ]
  },
  {
   "cell_type": "code",
   "execution_count": 3,
   "id": "bc07f0d7",
   "metadata": {},
   "outputs": [],
   "source": [
    "h: hopen `::5001"
   ]
  },
  {
   "cell_type": "markdown",
   "id": "e1c7e4ed",
   "metadata": {},
   "source": [
    "Once we get the handle, we can execute expressions at the server by passing them to it quoted:"
   ]
  },
  {
   "cell_type": "code",
   "execution_count": 4,
   "id": "06b9d1fa",
   "metadata": {},
   "outputs": [
    {
     "data": {
      "text/plain": [
       "2\r\n"
      ]
     },
     "execution_count": 4,
     "metadata": {},
     "output_type": "execute_result"
    }
   ],
   "source": [
    "h\"1+1\""
   ]
  },
  {
   "cell_type": "markdown",
   "id": "47baf85b",
   "metadata": {},
   "source": [
    "For example, we can gather data that is in memory in that process"
   ]
  },
  {
   "cell_type": "code",
   "execution_count": 6,
   "id": "0ef94932",
   "metadata": {},
   "outputs": [],
   "source": [
    "t: h\"t\""
   ]
  },
  {
   "cell_type": "markdown",
   "id": "32ce3b64",
   "metadata": {},
   "source": [
    "Or we can ask the server to execute a function defined at the server with the data that we provide using the parse tree syntax"
   ]
  },
  {
   "cell_type": "code",
   "execution_count": 7,
   "id": "f7c53615",
   "metadata": {},
   "outputs": [
    {
     "data": {
      "text/plain": [
       "t     sym  price   \r\n",
       "-------------------\r\n",
       "09:00 AAPL 96.26213\r\n",
       "09:00 AMZN 78.44964\r\n",
       "09:00 GOOG 75.3932 \r\n",
       "09:01 AAPL 96.26624\r\n",
       "09:01 AMZN 78.43485\r\n",
       "09:01 GOOG 75.385  \r\n",
       "09:02 AAPL 96.2744 \r\n",
       "09:02 AMZN 78.42174\r\n",
       "09:02 GOOG 75.37584\r\n"
      ]
     },
     "execution_count": 7,
     "metadata": {},
     "output_type": "execute_result"
    }
   ],
   "source": [
    "h(`f;t)"
   ]
  },
  {
   "cell_type": "markdown",
   "id": "23cc4b23",
   "metadata": {},
   "source": [
    "As a final step, don't forget to close the connection!"
   ]
  },
  {
   "cell_type": "code",
   "execution_count": 8,
   "id": "c43e05f3",
   "metadata": {},
   "outputs": [],
   "source": [
    "hclose h"
   ]
  },
  {
   "cell_type": "code",
   "execution_count": null,
   "id": "051ad283",
   "metadata": {},
   "outputs": [],
   "source": []
  }
 ],
 "metadata": {
  "kernelspec": {
   "display_name": "Q (kdb+)",
   "language": "q",
   "name": "qpk"
  },
  "language_info": {
   "file_extension": ".q",
   "mimetype": "text/x-q",
   "name": "q",
   "version": "4.0"
  }
 },
 "nbformat": 4,
 "nbformat_minor": 5
}
